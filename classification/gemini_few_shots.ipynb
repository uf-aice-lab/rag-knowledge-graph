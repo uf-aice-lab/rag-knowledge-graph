{
 "nbformat": 4,
 "nbformat_minor": 0,
 "metadata": {
  "colab": {
   "provenance": [],
   "mount_file_id": "13xyt1w-GORDpm41XnzY6klv4oW-2yApa",
   "authorship_tag": "ABX9TyN4p9Xz5kkGNqSaghA28IYV"
  },
  "kernelspec": {
   "name": "python3",
   "display_name": "Python 3"
  },
  "language_info": {
   "name": "python"
  }
 },
 "cells": [
  {
   "cell_type": "code",
   "execution_count": null,
   "metadata": {
    "id": "6NMsZHjfL-9m"
   },
   "outputs": [],
   "source": [
    "!pip install langchain openai"
   ]
  },
  {
   "cell_type": "code",
   "source": [
    "import pandas as pd\n",
    "import os\n",
    "import google.generativeai as genai\n",
    "import random\n",
    "import time\n",
    "import json\n",
    "from openai import OpenAI\n",
    "from langchain.prompts import PromptTemplate\n",
    "from sklearn.metrics import accuracy_score, precision_score, recall_score, f1_score"
   ],
   "metadata": {
    "id": "VQM3t6VRMzXX",
    "executionInfo": {
     "status": "ok",
     "timestamp": 1711485264666,
     "user_tz": 300,
     "elapsed": 4115,
     "user": {
      "displayName": "Zeyu Yan",
      "userId": "00512041571302287004"
     }
    }
   },
   "execution_count": 2,
   "outputs": []
  },
  {
   "cell_type": "code",
   "source": [
    "pd.set_option('display.max_columns', None)\n",
    "pd.set_option('display.max_colwidth', None)"
   ],
   "metadata": {
    "id": "aRktaL0uMzbu",
    "executionInfo": {
     "status": "ok",
     "timestamp": 1711485264847,
     "user_tz": 300,
     "elapsed": 185,
     "user": {
      "displayName": "Zeyu Yan",
      "userId": "00512041571302287004"
     }
    }
   },
   "execution_count": 3,
   "outputs": []
  },
  {
   "cell_type": "code",
   "source": "# Define root_path",
   "metadata": {
    "id": "yfLr7q_DMzfq",
    "executionInfo": {
     "status": "ok",
     "timestamp": 1711485264847,
     "user_tz": 300,
     "elapsed": 4,
     "user": {
      "displayName": "Zeyu Yan",
      "userId": "00512041571302287004"
     }
    }
   },
   "execution_count": 4,
   "outputs": []
  },
  {
   "cell_type": "code",
   "source": [
    "# Load test_df\n",
    "test_df['comment_text'] = test_df['comment_text'].astype(str)"
   ],
   "metadata": {
    "id": "ssox__3gMzjS",
    "executionInfo": {
     "status": "ok",
     "timestamp": 1711485264847,
     "user_tz": 300,
     "elapsed": 4,
     "user": {
      "displayName": "Zeyu Yan",
      "userId": "00512041571302287004"
     }
    }
   },
   "execution_count": 5,
   "outputs": []
  },
  {
   "cell_type": "code",
   "source": [
    "test_df.head()"
   ],
   "metadata": {
    "colab": {
     "base_uri": "https://localhost:8080/",
     "height": 990
    },
    "id": "gawuLXOTMzmW",
    "executionInfo": {
     "status": "ok",
     "timestamp": 1711485264847,
     "user_tz": 300,
     "elapsed": 4,
     "user": {
      "displayName": "Zeyu Yan",
      "userId": "00512041571302287004"
     }
    },
    "outputId": "74f05959-40c9-4825-8a42-03be93914dda"
   },
   "outputs": [],
   "execution_count": null
  },
  {
   "cell_type": "code",
   "source": "# Define sampled_data_path",
   "metadata": {
    "id": "TYchmR6cNecW",
    "executionInfo": {
     "status": "ok",
     "timestamp": 1711485265041,
     "user_tz": 300,
     "elapsed": 197,
     "user": {
      "displayName": "Zeyu Yan",
      "userId": "00512041571302287004"
     }
    }
   },
   "execution_count": 7,
   "outputs": []
  },
  {
   "cell_type": "code",
   "source": "# Load sampled_data_df",
   "metadata": {
    "id": "zARKd1W5Negu",
    "executionInfo": {
     "status": "ok",
     "timestamp": 1711485265042,
     "user_tz": 300,
     "elapsed": 2,
     "user": {
      "displayName": "Zeyu Yan",
      "userId": "00512041571302287004"
     }
    }
   },
   "execution_count": 8,
   "outputs": []
  },
  {
   "cell_type": "code",
   "source": [
    "sub_df_0 = sampled_data_df[sampled_data_df['Conceptual'] == 0.0]\n",
    "sub_df_1 = sampled_data_df[sampled_data_df['Conceptual'] == 1.0]"
   ],
   "metadata": {
    "id": "a3LlZBAQNekk",
    "executionInfo": {
     "status": "ok",
     "timestamp": 1711485265042,
     "user_tz": 300,
     "elapsed": 2,
     "user": {
      "displayName": "Zeyu Yan",
      "userId": "00512041571302287004"
     }
    }
   },
   "execution_count": 9,
   "outputs": []
  },
  {
   "cell_type": "code",
   "source": [
    "positive_examples = list(sub_df_1['comment_text'][:5])\n",
    "negative_examples = list(sub_df_0['comment_text'][5:10])"
   ],
   "metadata": {
    "id": "x94T4EAbNeoV",
    "executionInfo": {
     "status": "ok",
     "timestamp": 1711485265042,
     "user_tz": 300,
     "elapsed": 2,
     "user": {
      "displayName": "Zeyu Yan",
      "userId": "00512041571302287004"
     }
    }
   },
   "execution_count": 10,
   "outputs": []
  },
  {
   "cell_type": "code",
   "source": [
    "def generate_prompt(text):\n",
    "    prompt = f\"\"\"\n",
    "    Classify each text provided below. Return \"1\" only if the text is explicitly a question asking for an explanation of a math concept. For all other texts, including math-related questions that do not specifically ask for a concept explanation, return \"0\". Do not provide any additional information, solutions, or explanations. Your response should strictly be \"1\" or \"0\". DO NOT return anything other than \"1\" or \"0\" in your response.\n",
    "    If the text contains multiple questions and if any of the questions is a question asking for an explanation of a math concept, return \"1\", otherwise, return \"0\".\n",
    "    ONLY return one \"1\" or \"0\", DO NOT return multiple.\n",
    "\n",
    "    Example Classifications:\n",
    "\n",
    "    Text to Classify:\n",
    "    {positive_examples[0]}\n",
    "    Answer: 1\n",
    "\n",
    "    Text to Classify:\n",
    "    {positive_examples[1]}\n",
    "    Answer: 1\n",
    "\n",
    "    Text to Classify:\n",
    "    {positive_examples[2]}\n",
    "    Answer: 1\n",
    "\n",
    "    Text to Classify:\n",
    "    {positive_examples[3]}\n",
    "    Answer: 1\n",
    "\n",
    "    Text to Classify:\n",
    "    {positive_examples[4]}\n",
    "    Answer: 1\n",
    "\n",
    "    Text to Classify:\n",
    "    {negative_examples[0]}\n",
    "    Answer: 0\n",
    "\n",
    "    Text to Classify:\n",
    "    {negative_examples[1]}\n",
    "    Answer: 0\n",
    "\n",
    "    Text to Classify:\n",
    "    {negative_examples[2]}\n",
    "    Answer: 0\n",
    "\n",
    "    Text to Classify:\n",
    "    {negative_examples[3]}\n",
    "    Answer: 0\n",
    "\n",
    "    Text to Classify:\n",
    "    {negative_examples[4]}\n",
    "    Answer: 0\n",
    "\n",
    "    Text to Classify:\n",
    "    {text}\n",
    "\n",
    "    Answer:\n",
    "    \"\"\"\n",
    "    return prompt"
   ],
   "metadata": {
    "id": "KaGOq1g8MEwt",
    "executionInfo": {
     "status": "ok",
     "timestamp": 1711485265042,
     "user_tz": 300,
     "elapsed": 2,
     "user": {
      "displayName": "Zeyu Yan",
      "userId": "00512041571302287004"
     }
    }
   },
   "execution_count": 11,
   "outputs": []
  },
  {
   "cell_type": "code",
   "source": "# Define GOOGLE_API_KEY",
   "metadata": {
    "id": "LVd8nicgOjEW",
    "executionInfo": {
     "status": "ok",
     "timestamp": 1711485265042,
     "user_tz": 300,
     "elapsed": 2,
     "user": {
      "displayName": "Zeyu Yan",
      "userId": "00512041571302287004"
     }
    }
   },
   "execution_count": 12,
   "outputs": []
  },
  {
   "cell_type": "code",
   "source": [
    "genai.configure(api_key=GOOGLE_API_KEY)"
   ],
   "metadata": {
    "id": "lAyuIahDOjIU",
    "executionInfo": {
     "status": "ok",
     "timestamp": 1711485265223,
     "user_tz": 300,
     "elapsed": 5,
     "user": {
      "displayName": "Zeyu Yan",
      "userId": "00512041571302287004"
     }
    }
   },
   "execution_count": 13,
   "outputs": []
  },
  {
   "cell_type": "code",
   "source": [
    "safety_settings = [\n",
    "    {\n",
    "        \"category\": \"HARM_CATEGORY_DANGEROUS\",\n",
    "        \"threshold\": \"BLOCK_NONE\",\n",
    "    },\n",
    "    {\n",
    "        \"category\": \"HARM_CATEGORY_HARASSMENT\",\n",
    "        \"threshold\": \"BLOCK_NONE\",\n",
    "    },\n",
    "    {\n",
    "        \"category\": \"HARM_CATEGORY_HATE_SPEECH\",\n",
    "        \"threshold\": \"BLOCK_NONE\",\n",
    "    },\n",
    "    {\n",
    "        \"category\": \"HARM_CATEGORY_SEXUALLY_EXPLICIT\",\n",
    "        \"threshold\": \"BLOCK_NONE\",\n",
    "    },\n",
    "    {\n",
    "        \"category\": \"HARM_CATEGORY_DANGEROUS_CONTENT\",\n",
    "        \"threshold\": \"BLOCK_NONE\",\n",
    "    },\n",
    "]\n",
    "\n",
    "\n",
    "model = genai.GenerativeModel(\n",
    "    'gemini-pro',\n",
    "    safety_settings=safety_settings\n",
    ")"
   ],
   "metadata": {
    "id": "5s10s970OjMX",
    "executionInfo": {
     "status": "ok",
     "timestamp": 1711485265223,
     "user_tz": 300,
     "elapsed": 5,
     "user": {
      "displayName": "Zeyu Yan",
      "userId": "00512041571302287004"
     }
    }
   },
   "execution_count": 14,
   "outputs": []
  },
  {
   "cell_type": "code",
   "source": [
    "gemini_judgement = []\n",
    "\n",
    "for i, row in test_df.iterrows():\n",
    "    if i % 10 == 0:\n",
    "        print(f\"Processed {i} rows\")\n",
    "\n",
    "    flag = False\n",
    "\n",
    "    text = row['comment_text']\n",
    "    prompt = generate_prompt(text)\n",
    "\n",
    "    while not flag:\n",
    "        try:\n",
    "            response = model.generate_content(prompt)\n",
    "            time.sleep(1.5)\n",
    "            if int(response.text) == 0 or int(response.text) == 1:\n",
    "                gemini_judgement.append(int(response.text))\n",
    "                flag = True\n",
    "        except:\n",
    "            pass\n",
    "\n",
    "test_df['gemini_judgement'] = gemini_judgement\n",
    "\n",
    "# Save test_df"
   ],
   "metadata": {
    "colab": {
     "base_uri": "https://localhost:8080/",
     "height": 553
    },
    "id": "KDvzeDt8YuR6",
    "executionInfo": {
     "status": "ok",
     "timestamp": 1711486046917,
     "user_tz": 300,
     "elapsed": 781698,
     "user": {
      "displayName": "Zeyu Yan",
      "userId": "00512041571302287004"
     }
    },
    "outputId": "d60ee759-2896-485e-a551-1b1b9f885bb4"
   },
   "outputs": [],
   "execution_count": null
  },
  {
   "cell_type": "code",
   "source": [
    "test_df['Conceptual'] = test_df['Conceptual'].astype(int)\n",
    "\n",
    "accuracy = accuracy_score(test_df['Conceptual'], test_df['gemini_judgement'])\n",
    "precision = precision_score(test_df['Conceptual'], test_df['gemini_judgement'])\n",
    "recall = recall_score(test_df['Conceptual'], test_df['gemini_judgement'])\n",
    "f1 = f1_score(test_df['Conceptual'], test_df['gemini_judgement'])\n",
    "\n",
    "print(f\"Accuracy: {accuracy}\")\n",
    "print(f\"Precision: {precision}\")\n",
    "print(f\"Recall: {recall}\")\n",
    "print(f\"F1 Score: {f1}\")"
   ],
   "metadata": {
    "colab": {
     "base_uri": "https://localhost:8080/"
    },
    "id": "PhXgRhiWYuWq",
    "executionInfo": {
     "status": "ok",
     "timestamp": 1711486046917,
     "user_tz": 300,
     "elapsed": 6,
     "user": {
      "displayName": "Zeyu Yan",
      "userId": "00512041571302287004"
     }
    },
    "outputId": "5bdb248a-6c2a-4111-f53a-e4b3b744b5bc"
   },
   "outputs": [],
   "execution_count": null
  },
  {
   "cell_type": "code",
   "source": [],
   "metadata": {
    "id": "aMtDj3nVYual",
    "executionInfo": {
     "status": "ok",
     "timestamp": 1711486046918,
     "user_tz": 300,
     "elapsed": 4,
     "user": {
      "displayName": "Zeyu Yan",
      "userId": "00512041571302287004"
     }
    }
   },
   "execution_count": 16,
   "outputs": []
  },
  {
   "cell_type": "code",
   "source": [],
   "metadata": {
    "id": "mXPKv4J7Yuel",
    "executionInfo": {
     "status": "ok",
     "timestamp": 1711486046918,
     "user_tz": 300,
     "elapsed": 4,
     "user": {
      "displayName": "Zeyu Yan",
      "userId": "00512041571302287004"
     }
    }
   },
   "execution_count": 16,
   "outputs": []
  },
  {
   "cell_type": "code",
   "source": [],
   "metadata": {
    "id": "NgSQuMh5Yuhb",
    "executionInfo": {
     "status": "ok",
     "timestamp": 1711486046918,
     "user_tz": 300,
     "elapsed": 4,
     "user": {
      "displayName": "Zeyu Yan",
      "userId": "00512041571302287004"
     }
    }
   },
   "execution_count": 16,
   "outputs": []
  },
  {
   "cell_type": "code",
   "source": [],
   "metadata": {
    "id": "jLqC_sa1OjQq",
    "executionInfo": {
     "status": "ok",
     "timestamp": 1711486046918,
     "user_tz": 300,
     "elapsed": 4,
     "user": {
      "displayName": "Zeyu Yan",
      "userId": "00512041571302287004"
     }
    }
   },
   "execution_count": 16,
   "outputs": []
  },
  {
   "cell_type": "code",
   "source": [],
   "metadata": {
    "id": "6M-lQrdHOjTN",
    "executionInfo": {
     "status": "ok",
     "timestamp": 1711486046918,
     "user_tz": 300,
     "elapsed": 4,
     "user": {
      "displayName": "Zeyu Yan",
      "userId": "00512041571302287004"
     }
    }
   },
   "execution_count": 16,
   "outputs": []
  }
 ]
}
