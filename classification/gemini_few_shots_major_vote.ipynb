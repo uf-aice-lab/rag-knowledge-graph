{
 "nbformat": 4,
 "nbformat_minor": 0,
 "metadata": {
  "colab": {
   "provenance": [],
   "mount_file_id": "1q64YW8iQQ7kdfHOH_7DH23Wy_h80fJwR",
   "authorship_tag": "ABX9TyNhx2WsMpOKtubxR9OR0YjV"
  },
  "kernelspec": {
   "name": "python3",
   "display_name": "Python 3"
  },
  "language_info": {
   "name": "python"
  }
 },
 "cells": [
  {
   "cell_type": "code",
   "execution_count": null,
   "metadata": {
    "id": "kp-hXb3ahlxT"
   },
   "outputs": [],
   "source": [
    "!pip install langchain openai"
   ]
  },
  {
   "cell_type": "code",
   "source": [
    "import pandas as pd\n",
    "import os\n",
    "import google.generativeai as genai\n",
    "import random\n",
    "import time\n",
    "import json\n",
    "from openai import OpenAI\n",
    "from langchain.prompts import PromptTemplate\n",
    "from sklearn.metrics import accuracy_score, precision_score, recall_score, f1_score"
   ],
   "metadata": {
    "id": "QFd4kyXPh9vm",
    "executionInfo": {
     "status": "ok",
     "timestamp": 1711486291419,
     "user_tz": 300,
     "elapsed": 7018,
     "user": {
      "displayName": "Zeyu Yan",
      "userId": "00512041571302287004"
     }
    }
   },
   "execution_count": 2,
   "outputs": []
  },
  {
   "cell_type": "code",
   "source": [
    "pd.set_option('display.max_columns', None)\n",
    "pd.set_option('display.max_colwidth', None)"
   ],
   "metadata": {
    "id": "vwoxgsf1h9zt",
    "executionInfo": {
     "status": "ok",
     "timestamp": 1711486300840,
     "user_tz": 300,
     "elapsed": 160,
     "user": {
      "displayName": "Zeyu Yan",
      "userId": "00512041571302287004"
     }
    }
   },
   "execution_count": 3,
   "outputs": []
  },
  {
   "cell_type": "code",
   "source": "# Define root_path",
   "metadata": {
    "id": "DUOBiKJOh93x",
    "executionInfo": {
     "status": "ok",
     "timestamp": 1711486308369,
     "user_tz": 300,
     "elapsed": 3,
     "user": {
      "displayName": "Zeyu Yan",
      "userId": "00512041571302287004"
     }
    }
   },
   "execution_count": 4,
   "outputs": []
  },
  {
   "cell_type": "code",
   "source": [
    "# Load test_df\n",
    "test_df['comment_text'] = test_df['comment_text'].astype(str)"
   ],
   "metadata": {
    "id": "eKzKA8T4h973",
    "executionInfo": {
     "status": "ok",
     "timestamp": 1711486320120,
     "user_tz": 300,
     "elapsed": 1311,
     "user": {
      "displayName": "Zeyu Yan",
      "userId": "00512041571302287004"
     }
    }
   },
   "execution_count": 5,
   "outputs": []
  },
  {
   "cell_type": "code",
   "source": "# Define sampled_data_path",
   "metadata": {
    "id": "xHnR1d5Sh9_o",
    "executionInfo": {
     "status": "ok",
     "timestamp": 1711486353941,
     "user_tz": 300,
     "elapsed": 1,
     "user": {
      "displayName": "Zeyu Yan",
      "userId": "00512041571302287004"
     }
    }
   },
   "execution_count": 6,
   "outputs": []
  },
  {
   "cell_type": "code",
   "source": [
    "sampled_data_df = pd.read_csv(sampled_data_path, low_memory=False)"
   ],
   "metadata": {
    "id": "VsvyjBZAh-C9",
    "executionInfo": {
     "status": "ok",
     "timestamp": 1711486365991,
     "user_tz": 300,
     "elapsed": 202,
     "user": {
      "displayName": "Zeyu Yan",
      "userId": "00512041571302287004"
     }
    }
   },
   "execution_count": 7,
   "outputs": []
  },
  {
   "cell_type": "code",
   "source": [
    "sub_df_0 = sampled_data_df[sampled_data_df['Conceptual'] == 0.0]\n",
    "sub_df_1 = sampled_data_df[sampled_data_df['Conceptual'] == 1.0]"
   ],
   "metadata": {
    "id": "vZBttrk5iUlx",
    "executionInfo": {
     "status": "ok",
     "timestamp": 1711486374076,
     "user_tz": 300,
     "elapsed": 1,
     "user": {
      "displayName": "Zeyu Yan",
      "userId": "00512041571302287004"
     }
    }
   },
   "execution_count": 8,
   "outputs": []
  },
  {
   "cell_type": "code",
   "source": [
    "positive_examples = list(sub_df_1['comment_text'][:5])\n",
    "negative_examples = list(sub_df_0['comment_text'][5:10])"
   ],
   "metadata": {
    "id": "74asuIKaiUp5",
    "executionInfo": {
     "status": "ok",
     "timestamp": 1711486381967,
     "user_tz": 300,
     "elapsed": 1,
     "user": {
      "displayName": "Zeyu Yan",
      "userId": "00512041571302287004"
     }
    }
   },
   "execution_count": 9,
   "outputs": []
  },
  {
   "cell_type": "code",
   "source": [
    "def generate_prompt(text):\n",
    "    prompt = f\"\"\"\n",
    "    Classify each text provided below. Return \"1\" only if the text is explicitly a question asking for an explanation of a math concept. For all other texts, including math-related questions that do not specifically ask for a concept explanation, return \"0\". Do not provide any additional information, solutions, or explanations. Your response should strictly be \"1\" or \"0\". DO NOT return anything other than \"1\" or \"0\" in your response.\n",
    "    If the text contains multiple questions and if any of the questions is a question asking for an explanation of a math concept, return \"1\", otherwise, return \"0\".\n",
    "    ONLY return one \"1\" or \"0\", DO NOT return multiple.\n",
    "\n",
    "    Example Classifications:\n",
    "\n",
    "    Text to Classify:\n",
    "    {positive_examples[0]}\n",
    "    Answer: 1\n",
    "\n",
    "    Text to Classify:\n",
    "    {positive_examples[1]}\n",
    "    Answer: 1\n",
    "\n",
    "    Text to Classify:\n",
    "    {positive_examples[2]}\n",
    "    Answer: 1\n",
    "\n",
    "    Text to Classify:\n",
    "    {positive_examples[3]}\n",
    "    Answer: 1\n",
    "\n",
    "    Text to Classify:\n",
    "    {positive_examples[4]}\n",
    "    Answer: 1\n",
    "\n",
    "    Text to Classify:\n",
    "    {negative_examples[0]}\n",
    "    Answer: 0\n",
    "\n",
    "    Text to Classify:\n",
    "    {negative_examples[1]}\n",
    "    Answer: 0\n",
    "\n",
    "    Text to Classify:\n",
    "    {negative_examples[2]}\n",
    "    Answer: 0\n",
    "\n",
    "    Text to Classify:\n",
    "    {negative_examples[3]}\n",
    "    Answer: 0\n",
    "\n",
    "    Text to Classify:\n",
    "    {negative_examples[4]}\n",
    "    Answer: 0\n",
    "\n",
    "    Text to Classify:\n",
    "    {text}\n",
    "\n",
    "    Answer:\n",
    "    \"\"\"\n",
    "    return prompt"
   ],
   "metadata": {
    "id": "KaGOq1g8MEwt",
    "executionInfo": {
     "status": "ok",
     "timestamp": 1711486404319,
     "user_tz": 300,
     "elapsed": 191,
     "user": {
      "displayName": "Zeyu Yan",
      "userId": "00512041571302287004"
     }
    }
   },
   "execution_count": 10,
   "outputs": []
  },
  {
   "cell_type": "code",
   "source": "# Define GOOGLE_API_KEY",
   "metadata": {
    "id": "DZAm-f1hiUyC",
    "executionInfo": {
     "status": "ok",
     "timestamp": 1711486417188,
     "user_tz": 300,
     "elapsed": 1,
     "user": {
      "displayName": "Zeyu Yan",
      "userId": "00512041571302287004"
     }
    }
   },
   "execution_count": 11,
   "outputs": []
  },
  {
   "cell_type": "code",
   "source": [
    "genai.configure(api_key=GOOGLE_API_KEY)"
   ],
   "metadata": {
    "id": "tjn164q4iiyE",
    "executionInfo": {
     "status": "ok",
     "timestamp": 1711486424710,
     "user_tz": 300,
     "elapsed": 188,
     "user": {
      "displayName": "Zeyu Yan",
      "userId": "00512041571302287004"
     }
    }
   },
   "execution_count": 12,
   "outputs": []
  },
  {
   "cell_type": "code",
   "source": [
    "safety_settings = [\n",
    "    {\n",
    "        \"category\": \"HARM_CATEGORY_DANGEROUS\",\n",
    "        \"threshold\": \"BLOCK_NONE\",\n",
    "    },\n",
    "    {\n",
    "        \"category\": \"HARM_CATEGORY_HARASSMENT\",\n",
    "        \"threshold\": \"BLOCK_NONE\",\n",
    "    },\n",
    "    {\n",
    "        \"category\": \"HARM_CATEGORY_HATE_SPEECH\",\n",
    "        \"threshold\": \"BLOCK_NONE\",\n",
    "    },\n",
    "    {\n",
    "        \"category\": \"HARM_CATEGORY_SEXUALLY_EXPLICIT\",\n",
    "        \"threshold\": \"BLOCK_NONE\",\n",
    "    },\n",
    "    {\n",
    "        \"category\": \"HARM_CATEGORY_DANGEROUS_CONTENT\",\n",
    "        \"threshold\": \"BLOCK_NONE\",\n",
    "    },\n",
    "]\n",
    "\n",
    "\n",
    "model = genai.GenerativeModel(\n",
    "    'gemini-pro',\n",
    "    safety_settings=safety_settings\n",
    ")"
   ],
   "metadata": {
    "id": "OcXzxle7ii2P",
    "executionInfo": {
     "status": "ok",
     "timestamp": 1711486438631,
     "user_tz": 300,
     "elapsed": 146,
     "user": {
      "displayName": "Zeyu Yan",
      "userId": "00512041571302287004"
     }
    }
   },
   "execution_count": 13,
   "outputs": []
  },
  {
   "cell_type": "code",
   "source": [
    "gemini_judgement = []\n",
    "\n",
    "for i, row in test_df.iterrows():\n",
    "    if i % 10 == 0:\n",
    "        print(f\"Processed {i} rows\")\n",
    "\n",
    "    votes = []\n",
    "\n",
    "    text = row['comment_text']\n",
    "    prompt = generate_prompt(text)\n",
    "\n",
    "    while len(votes) < 3:\n",
    "        try:\n",
    "            response = model.generate_content(prompt)\n",
    "            time.sleep(1.5)\n",
    "            if int(response.text) == 0 or int(response.text) == 1:\n",
    "                votes.append(int(response.text))\n",
    "        except:\n",
    "            pass\n",
    "\n",
    "    if sum(votes) >= 2:\n",
    "        gemini_judgement.append(1)\n",
    "    else:\n",
    "        gemini_judgement.append(0)\n",
    "\n",
    "test_df['gemini_judgement'] = gemini_judgement\n",
    "\n",
    "# Save test_df"
   ],
   "metadata": {
    "colab": {
     "base_uri": "https://localhost:8080/",
     "height": 553
    },
    "id": "gB-Is_e2ii5-",
    "executionInfo": {
     "status": "ok",
     "timestamp": 1711489037084,
     "user_tz": 300,
     "elapsed": 2378896,
     "user": {
      "displayName": "Zeyu Yan",
      "userId": "00512041571302287004"
     }
    },
    "outputId": "c4f04090-c808-4c3b-b319-e00d89ff8eb6"
   },
   "outputs": [],
   "execution_count": null
  },
  {
   "cell_type": "code",
   "source": [
    "test_df['Conceptual'] = test_df['Conceptual'].astype(int)\n",
    "\n",
    "accuracy = accuracy_score(test_df['Conceptual'], test_df['gemini_judgement'])\n",
    "precision = precision_score(test_df['Conceptual'], test_df['gemini_judgement'])\n",
    "recall = recall_score(test_df['Conceptual'], test_df['gemini_judgement'])\n",
    "f1 = f1_score(test_df['Conceptual'], test_df['gemini_judgement'])\n",
    "\n",
    "print(f\"Accuracy: {accuracy}\")\n",
    "print(f\"Precision: {precision}\")\n",
    "print(f\"Recall: {recall}\")\n",
    "print(f\"F1 Score: {f1}\")"
   ],
   "metadata": {
    "colab": {
     "base_uri": "https://localhost:8080/"
    },
    "id": "-KeimDNMii--",
    "executionInfo": {
     "status": "ok",
     "timestamp": 1711489037085,
     "user_tz": 300,
     "elapsed": 6,
     "user": {
      "displayName": "Zeyu Yan",
      "userId": "00512041571302287004"
     }
    },
    "outputId": "a766c86a-1c15-4645-f52b-f5df9accdd8a"
   },
   "outputs": [],
   "execution_count": null
  },
  {
   "cell_type": "code",
   "source": [],
   "metadata": {
    "id": "sPbKzVXGiU1n",
    "executionInfo": {
     "status": "ok",
     "timestamp": 1711489037085,
     "user_tz": 300,
     "elapsed": 3,
     "user": {
      "displayName": "Zeyu Yan",
      "userId": "00512041571302287004"
     }
    }
   },
   "execution_count": 15,
   "outputs": []
  }
 ]
}
