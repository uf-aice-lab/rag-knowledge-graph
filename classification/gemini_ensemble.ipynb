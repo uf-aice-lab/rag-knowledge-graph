{
 "nbformat": 4,
 "nbformat_minor": 0,
 "metadata": {
  "colab": {
   "provenance": [],
   "mount_file_id": "1e8lEOE9FcT5C4bW33h0k4ZRYHDt7aIwM",
   "authorship_tag": "ABX9TyOE6e2gSOZTVwjQxHnGW/ss"
  },
  "kernelspec": {
   "name": "python3",
   "display_name": "Python 3"
  },
  "language_info": {
   "name": "python"
  }
 },
 "cells": [
  {
   "cell_type": "code",
   "execution_count": null,
   "metadata": {
    "id": "wTtESzF0w3pe"
   },
   "outputs": [],
   "source": [
    "!pip install langchain openai"
   ]
  },
  {
   "cell_type": "code",
   "source": [
    "import pandas as pd\n",
    "import os\n",
    "import google.generativeai as genai\n",
    "import random\n",
    "import time\n",
    "import json\n",
    "from openai import OpenAI\n",
    "from langchain.prompts import PromptTemplate\n",
    "from sklearn.metrics import accuracy_score, precision_score, recall_score, f1_score"
   ],
   "metadata": {
    "id": "noAVo4Soxe-a",
    "executionInfo": {
     "status": "ok",
     "timestamp": 1711490403540,
     "user_tz": 300,
     "elapsed": 1322,
     "user": {
      "displayName": "Zeyu Yan",
      "userId": "00512041571302287004"
     }
    }
   },
   "execution_count": 3,
   "outputs": []
  },
  {
   "cell_type": "code",
   "source": [
    "pd.set_option('display.max_columns', None)\n",
    "pd.set_option('display.max_colwidth', None)"
   ],
   "metadata": {
    "id": "zKXiQLe3xfC6",
    "executionInfo": {
     "status": "ok",
     "timestamp": 1711490410865,
     "user_tz": 300,
     "elapsed": 139,
     "user": {
      "displayName": "Zeyu Yan",
      "userId": "00512041571302287004"
     }
    }
   },
   "execution_count": 4,
   "outputs": []
  },
  {
   "cell_type": "code",
   "source": "# Define root_path",
   "metadata": {
    "id": "Bs86HKNGxfHF",
    "executionInfo": {
     "status": "ok",
     "timestamp": 1711490480208,
     "user_tz": 300,
     "elapsed": 2,
     "user": {
      "displayName": "Zeyu Yan",
      "userId": "00512041571302287004"
     }
    }
   },
   "execution_count": 5,
   "outputs": []
  },
  {
   "cell_type": "code",
   "source": [
    "# Load test_df\n",
    "test_df['comment_text'] = test_df['comment_text'].astype(str)"
   ],
   "metadata": {
    "id": "y-pvals-xfK2",
    "executionInfo": {
     "status": "ok",
     "timestamp": 1711490578889,
     "user_tz": 300,
     "elapsed": 2258,
     "user": {
      "displayName": "Zeyu Yan",
      "userId": "00512041571302287004"
     }
    }
   },
   "execution_count": 6,
   "outputs": []
  },
  {
   "cell_type": "code",
   "source": [
    "gemini_prompt_template = \"\"\"\n",
    "You will be presented with a series of questions. Your task is to determine whether each question explicitly asks for an explanation of a math concept. After making your determination, you must also provide the reasoning behind your judgment. For each question, respond with \"Yes, this is asking for an explanation of a math concept\" or \"No, this is not asking for an explanation of a math concept,\" followed by a brief explanation of your reasoning.\n",
    "\n",
    "Remember, a question that explicitly asks for an explanation of a math concept might include phrases that indicate a request for understanding, clarification, or detailed information about how or why something works in mathematics.\n",
    "\n",
    "Example Question: If h(x) is the inverse of f(x), what is the value of h(f(x))?\n",
    "\n",
    "Example Response: No, this is not asking for an explanation of a math concept. The question is requesting to solve a math problem, not an explanation of the concept or how it is applied.\n",
    "\n",
    "Example Question: What would i have to do to find the slope of the line that pases through the points?\n",
    "\n",
    "Example Response: No, this is not asking for an explanation of a math concept. The question is requesting to solve a math problem, not an explanation of the concept or how it is applied.\n",
    "\n",
    "Example Question: Special monomials.....can someone explain me better?\n",
    "\n",
    "Example Response: Yes, this is asking for an explanation of a math concept. The question seeks understanding of special monomials and their applications in mathematics.\n",
    "\n",
    "Example Question: I'm confused about the lowest common denominator can someone explain it to me?\n",
    "\n",
    "Example Response: Yes, this is asking for an explanation of a math concept. The question seeks understanding of the lowest common denominator and its applications in mathematics.\n",
    "\n",
    "[Now, proceed with classifying and reasoning the following question:]\n",
    "\n",
    "Question: {question}\n",
    "\n",
    "Response:\n",
    "\"\"\""
   ],
   "metadata": {
    "id": "5zmsD7fWya-n",
    "executionInfo": {
     "status": "ok",
     "timestamp": 1711490602275,
     "user_tz": 300,
     "elapsed": 153,
     "user": {
      "displayName": "Zeyu Yan",
      "userId": "00512041571302287004"
     }
    }
   },
   "execution_count": 7,
   "outputs": []
  },
  {
   "cell_type": "code",
   "source": [
    "gemini_prompt_template_lc = PromptTemplate(\n",
    "    input_variables=[\"question\"],\n",
    "    template=gemini_prompt_template,\n",
    ")"
   ],
   "metadata": {
    "id": "VQorgnWAyD4i",
    "executionInfo": {
     "status": "ok",
     "timestamp": 1711490616161,
     "user_tz": 300,
     "elapsed": 158,
     "user": {
      "displayName": "Zeyu Yan",
      "userId": "00512041571302287004"
     }
    }
   },
   "execution_count": 8,
   "outputs": []
  },
  {
   "cell_type": "code",
   "source": "# Define GOOGLE_API_KEY",
   "metadata": {
    "id": "VI2VXOELyD8x",
    "executionInfo": {
     "status": "ok",
     "timestamp": 1711490624304,
     "user_tz": 300,
     "elapsed": 148,
     "user": {
      "displayName": "Zeyu Yan",
      "userId": "00512041571302287004"
     }
    }
   },
   "execution_count": 9,
   "outputs": []
  },
  {
   "cell_type": "code",
   "source": [
    "genai.configure(api_key=GOOGLE_API_KEY)"
   ],
   "metadata": {
    "id": "FsMWreNHyEAj",
    "executionInfo": {
     "status": "ok",
     "timestamp": 1711490631467,
     "user_tz": 300,
     "elapsed": 148,
     "user": {
      "displayName": "Zeyu Yan",
      "userId": "00512041571302287004"
     }
    }
   },
   "execution_count": 10,
   "outputs": []
  },
  {
   "cell_type": "code",
   "source": [
    "safety_settings = [\n",
    "    {\n",
    "        \"category\": \"HARM_CATEGORY_DANGEROUS\",\n",
    "        \"threshold\": \"BLOCK_NONE\",\n",
    "    },\n",
    "    {\n",
    "        \"category\": \"HARM_CATEGORY_HARASSMENT\",\n",
    "        \"threshold\": \"BLOCK_NONE\",\n",
    "    },\n",
    "    {\n",
    "        \"category\": \"HARM_CATEGORY_HATE_SPEECH\",\n",
    "        \"threshold\": \"BLOCK_NONE\",\n",
    "    },\n",
    "    {\n",
    "        \"category\": \"HARM_CATEGORY_SEXUALLY_EXPLICIT\",\n",
    "        \"threshold\": \"BLOCK_NONE\",\n",
    "    },\n",
    "    {\n",
    "        \"category\": \"HARM_CATEGORY_DANGEROUS_CONTENT\",\n",
    "        \"threshold\": \"BLOCK_NONE\",\n",
    "    },\n",
    "]\n",
    "\n",
    "\n",
    "model = genai.GenerativeModel(\n",
    "    'gemini-pro',\n",
    "    safety_settings=safety_settings\n",
    ")"
   ],
   "metadata": {
    "id": "l1gPi8b7yEEb",
    "executionInfo": {
     "status": "ok",
     "timestamp": 1711490757512,
     "user_tz": 300,
     "elapsed": 137,
     "user": {
      "displayName": "Zeyu Yan",
      "userId": "00512041571302287004"
     }
    }
   },
   "execution_count": 11,
   "outputs": []
  },
  {
   "cell_type": "code",
   "source": [
    "# Test.\n",
    "prompt = gemini_prompt_template_lc.format(\n",
    "    question=\"What would i have to do to find the slope of the line that pases through the points \",\n",
    ")\n",
    "\n",
    "response = model.generate_content(prompt)\n",
    "print(response.text)"
   ],
   "metadata": {
    "colab": {
     "base_uri": "https://localhost:8080/",
     "height": 55
    },
    "id": "vb_3Cn4byEIf",
    "executionInfo": {
     "status": "ok",
     "timestamp": 1711490782833,
     "user_tz": 300,
     "elapsed": 2097,
     "user": {
      "displayName": "Zeyu Yan",
      "userId": "00512041571302287004"
     }
    },
    "outputId": "b4014026-d7fb-4c0e-c21c-406354d0843c"
   },
   "execution_count": 12,
   "outputs": [
    {
     "output_type": "stream",
     "name": "stdout",
     "text": [
      "No, this is not asking for an explanation of a math concept. The question is requesting to solve a math problem, not an explanation of the concept or how it is applied.\n"
     ]
    }
   ]
  },
  {
   "cell_type": "code",
   "source": "# Define OPENAI_API_KEY",
   "metadata": {
    "id": "fu2Kem5HyELv",
    "executionInfo": {
     "status": "ok",
     "timestamp": 1711490798742,
     "user_tz": 300,
     "elapsed": 181,
     "user": {
      "displayName": "Zeyu Yan",
      "userId": "00512041571302287004"
     }
    }
   },
   "execution_count": 13,
   "outputs": []
  },
  {
   "cell_type": "code",
   "source": [
    "client = OpenAI(api_key=OPENAI_API_KEY)"
   ],
   "metadata": {
    "id": "qioKEGsEzOWP",
    "executionInfo": {
     "status": "ok",
     "timestamp": 1711490805737,
     "user_tz": 300,
     "elapsed": 342,
     "user": {
      "displayName": "Zeyu Yan",
      "userId": "00512041571302287004"
     }
    }
   },
   "execution_count": 14,
   "outputs": []
  },
  {
   "cell_type": "code",
   "source": [
    "def generate_response(prompt):\n",
    "    chat_completion = client.chat.completions.create(\n",
    "        messages=[\n",
    "            {\n",
    "                \"role\": \"user\",\n",
    "                \"content\": prompt,\n",
    "            }\n",
    "        ],\n",
    "        model=\"gpt-4-turbo\",\n",
    "    )\n",
    "    return chat_completion.choices[0].message.content"
   ],
   "metadata": {
    "id": "07lUUDYmzOau",
    "executionInfo": {
     "status": "ok",
     "timestamp": 1711490842785,
     "user_tz": 300,
     "elapsed": 177,
     "user": {
      "displayName": "Zeyu Yan",
      "userId": "00512041571302287004"
     }
    }
   },
   "execution_count": 15,
   "outputs": []
  },
  {
   "cell_type": "code",
   "source": [
    "openai_prompt_template = \"\"\"\n",
    "You will be given responses from a previous task where you classified questions as either explicitly asking for an explanation of a math concept or not, along with your reasoning. Based on these responses, your task now is to perform a majority vote to determine the final classification of the question.\n",
    "\n",
    "If the majority of responses classify the question as asking for an explanation of a math concept, you will return \"1\". If the majority classify the question as not asking for an explanation of a math concept, you will return \"0\". Your response should strictly be \"1\" or \"0\". DO NOT return anything other than \"1\" or \"0\" in your response.\n",
    "\n",
    "Please analyze the following responses and conduct a majority vote:\n",
    "\n",
    "Response 1: {response_1}\n",
    "\n",
    "Response 2: {response_2}\n",
    "\n",
    "Response 3: {response_3}\n",
    "\n",
    "Majority Vote Result:\n",
    "\"\"\""
   ],
   "metadata": {
    "id": "g3Hhs88hzOer",
    "executionInfo": {
     "status": "ok",
     "timestamp": 1711490851518,
     "user_tz": 300,
     "elapsed": 3,
     "user": {
      "displayName": "Zeyu Yan",
      "userId": "00512041571302287004"
     }
    }
   },
   "execution_count": 16,
   "outputs": []
  },
  {
   "cell_type": "code",
   "source": [
    "openai_prompt_template_lc = PromptTemplate(\n",
    "    input_variables=[\"response_1\", \"response_2\", \"response_3\"],\n",
    "    template=openai_prompt_template,\n",
    ")"
   ],
   "metadata": {
    "id": "0ZgO-pjXzOio",
    "executionInfo": {
     "status": "ok",
     "timestamp": 1711490900327,
     "user_tz": 300,
     "elapsed": 2,
     "user": {
      "displayName": "Zeyu Yan",
      "userId": "00512041571302287004"
     }
    }
   },
   "execution_count": 17,
   "outputs": []
  },
  {
   "cell_type": "code",
   "source": [
    "openai_judgement = []\n",
    "\n",
    "for i, row in test_df.iterrows():\n",
    "    if i % 10 == 0:\n",
    "        print(f\"Processed {i} rows\")\n",
    "\n",
    "    flag = False\n",
    "\n",
    "    question = row['comment_text']\n",
    "    gemini_prompt = gemini_prompt_template_lc.format(\n",
    "        question=question\n",
    "    )\n",
    "    response_1 = model.generate_content(gemini_prompt)\n",
    "    time.sleep(1.5)\n",
    "    response_2 = model.generate_content(gemini_prompt)\n",
    "    time.sleep(1.5)\n",
    "    response_3 = model.generate_content(gemini_prompt)\n",
    "    time.sleep(1.5)\n",
    "\n",
    "    openai_prompt = openai_prompt_template_lc.format(\n",
    "        response_1=response_1.text,\n",
    "        response_2=response_2.text,\n",
    "        response_3=response_3.text,\n",
    "    )\n",
    "\n",
    "    while not flag:\n",
    "        try:\n",
    "            openai_response = generate_response(openai_prompt)\n",
    "            if int(openai_response) == 1 or int(openai_response) == 0:\n",
    "                openai_judgement.append(int(openai_response))\n",
    "                flag = True\n",
    "        except:\n",
    "            pass\n",
    "\n",
    "test_df['openai_judgement'] = openai_judgement\n",
    "\n",
    "# Save test_df"
   ],
   "metadata": {
    "colab": {
     "base_uri": "https://localhost:8080/",
     "height": 553
    },
    "id": "11sMzGb7zOmC",
    "executionInfo": {
     "status": "ok",
     "timestamp": 1711494060811,
     "user_tz": 300,
     "elapsed": 3013042,
     "user": {
      "displayName": "Zeyu Yan",
      "userId": "00512041571302287004"
     }
    },
    "outputId": "f20763a7-cdc9-4c7b-f257-5c1455b9bc27"
   },
   "outputs": [],
   "execution_count": null
  },
  {
   "cell_type": "code",
   "source": [
    "test_df['Conceptual'] = test_df['Conceptual'].astype(int)\n",
    "\n",
    "accuracy = accuracy_score(test_df['Conceptual'], test_df['openai_judgement'])\n",
    "precision = precision_score(test_df['Conceptual'], test_df['openai_judgement'])\n",
    "recall = recall_score(test_df['Conceptual'], test_df['openai_judgement'])\n",
    "f1 = f1_score(test_df['Conceptual'], test_df['openai_judgement'])\n",
    "\n",
    "print(f\"Accuracy: {accuracy}\")\n",
    "print(f\"Precision: {precision}\")\n",
    "print(f\"Recall: {recall}\")\n",
    "print(f\"F1 Score: {f1}\")"
   ],
   "metadata": {
    "colab": {
     "base_uri": "https://localhost:8080/"
    },
    "id": "Su2nU6FSzpnu",
    "executionInfo": {
     "status": "ok",
     "timestamp": 1711494060812,
     "user_tz": 300,
     "elapsed": 6,
     "user": {
      "displayName": "Zeyu Yan",
      "userId": "00512041571302287004"
     }
    },
    "outputId": "7057a457-4f28-430a-e988-a1773d90180c"
   },
   "outputs": [],
   "execution_count": null
  },
  {
   "cell_type": "code",
   "source": [],
   "metadata": {
    "id": "bXW_H3CizpsE",
    "executionInfo": {
     "status": "ok",
     "timestamp": 1711494060812,
     "user_tz": 300,
     "elapsed": 3,
     "user": {
      "displayName": "Zeyu Yan",
      "userId": "00512041571302287004"
     }
    }
   },
   "execution_count": 19,
   "outputs": []
  },
  {
   "cell_type": "code",
   "source": [],
   "metadata": {
    "id": "xe4Lias4zpwh",
    "executionInfo": {
     "status": "ok",
     "timestamp": 1711494060812,
     "user_tz": 300,
     "elapsed": 3,
     "user": {
      "displayName": "Zeyu Yan",
      "userId": "00512041571302287004"
     }
    }
   },
   "execution_count": 19,
   "outputs": []
  },
  {
   "cell_type": "code",
   "source": [],
   "metadata": {
    "id": "Dx3uUiuszpz2",
    "executionInfo": {
     "status": "ok",
     "timestamp": 1711494060812,
     "user_tz": 300,
     "elapsed": 3,
     "user": {
      "displayName": "Zeyu Yan",
      "userId": "00512041571302287004"
     }
    }
   },
   "execution_count": 19,
   "outputs": []
  },
  {
   "cell_type": "code",
   "source": [],
   "metadata": {
    "id": "MEwuKuCDxfOg",
    "executionInfo": {
     "status": "ok",
     "timestamp": 1711494060976,
     "user_tz": 300,
     "elapsed": 166,
     "user": {
      "displayName": "Zeyu Yan",
      "userId": "00512041571302287004"
     }
    }
   },
   "execution_count": 19,
   "outputs": []
  }
 ]
}
