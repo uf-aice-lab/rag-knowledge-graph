{
 "nbformat": 4,
 "nbformat_minor": 0,
 "metadata": {
  "colab": {
   "provenance": [],
   "mount_file_id": "1atkZcj5581AVQI5uRgcdSRlxF-Lmm3UK",
   "authorship_tag": "ABX9TyONZPbFt2xnQ8TnzfDKgT04"
  },
  "kernelspec": {
   "name": "python3",
   "display_name": "Python 3"
  },
  "language_info": {
   "name": "python"
  }
 },
 "cells": [
  {
   "cell_type": "code",
   "execution_count": 1,
   "metadata": {
    "id": "JI8dQ_nT-uG0",
    "executionInfo": {
     "status": "ok",
     "timestamp": 1715797811079,
     "user_tz": 300,
     "elapsed": 478,
     "user": {
      "displayName": "Zeyu Yan",
      "userId": "00512041571302287004"
     }
    }
   },
   "outputs": [],
   "source": [
    "import pandas as pd\n",
    "import json"
   ]
  },
  {
   "cell_type": "code",
   "source": [
    "pd.set_option('display.max_columns', None)\n",
    "pd.set_option('display.max_colwidth', None)"
   ],
   "metadata": {
    "id": "4gr_0B8T-86D",
    "executionInfo": {
     "status": "ok",
     "timestamp": 1715797811079,
     "user_tz": 300,
     "elapsed": 2,
     "user": {
      "displayName": "Zeyu Yan",
      "userId": "00512041571302287004"
     }
    }
   },
   "execution_count": 2,
   "outputs": []
  },
  {
   "cell_type": "code",
   "source": "# Define root_path and data_path",
   "metadata": {
    "id": "y-1UVF0T-8-Z",
    "executionInfo": {
     "status": "ok",
     "timestamp": 1715797811080,
     "user_tz": 300,
     "elapsed": 3,
     "user": {
      "displayName": "Zeyu Yan",
      "userId": "00512041571302287004"
     }
    }
   },
   "execution_count": 3,
   "outputs": []
  },
  {
   "cell_type": "code",
   "source": "# Define filenames",
   "metadata": {
    "id": "Qv9XiA-D-9CN",
    "executionInfo": {
     "status": "ok",
     "timestamp": 1715797811080,
     "user_tz": 300,
     "elapsed": 2,
     "user": {
      "displayName": "Zeyu Yan",
      "userId": "00512041571302287004"
     }
    }
   },
   "execution_count": 4,
   "outputs": []
  },
  {
   "cell_type": "code",
   "source": [
    "# Initialize an empty list to hold the individual DataFrames\n",
    "dfs = []\n",
    "\n",
    "# Loop through the filenames, read each file, add extra columns, and append the DataFrame to the list\n",
    "for filename in filenames:\n",
    "    # Read the CSV file into a DataFrame\n",
    "    df = pd.read_csv(f'{data_path}/{filename}', low_memory=False)\n",
    "\n",
    "    # Extract retrieval_method and prompt_level from the filename\n",
    "    parts = filename.split('_')\n",
    "    if filename.startswith('df'):\n",
    "        retrieval_method = parts[1]  # 'vector' or 'graph'\n",
    "        prompt_level = parts[2]      # 'no', 'low', or 'high'\n",
    "\n",
    "    else:\n",
    "        retrieval_method = parts[2]  # 'vector' or 'graph'\n",
    "        prompt_level = parts[3]      # 'no', 'low', or 'high'\n",
    "\n",
    "    # Add the extra columns\n",
    "    df['retrieval_method'] = retrieval_method\n",
    "    df['prompt_level'] = prompt_level\n",
    "\n",
    "    # Append the DataFrame to the list\n",
    "    dfs.append(df)\n",
    "\n",
    "# Concatenate all DataFrames in the list into a single DataFrame\n",
    "combined_df = pd.concat(dfs, ignore_index=True)"
   ],
   "metadata": {
    "id": "FY1KpGxW-9GC",
    "executionInfo": {
     "status": "ok",
     "timestamp": 1715797816951,
     "user_tz": 300,
     "elapsed": 5873,
     "user": {
      "displayName": "Zeyu Yan",
      "userId": "00512041571302287004"
     }
    }
   },
   "execution_count": 5,
   "outputs": []
  },
  {
   "cell_type": "code",
   "source": [
    "combined_df.shape"
   ],
   "metadata": {
    "colab": {
     "base_uri": "https://localhost:8080/"
    },
    "id": "1_sYXfwh-9J1",
    "executionInfo": {
     "status": "ok",
     "timestamp": 1715797816952,
     "user_tz": 300,
     "elapsed": 11,
     "user": {
      "displayName": "Zeyu Yan",
      "userId": "00512041571302287004"
     }
    },
    "outputId": "4ef89a1c-5fb8-4b5a-8b5f-f27fffb29b72"
   },
   "execution_count": 6,
   "outputs": [
    {
     "output_type": "execute_result",
     "data": {
      "text/plain": [
       "(3000, 11)"
      ]
     },
     "metadata": {},
     "execution_count": 6
    }
   ]
  },
  {
   "cell_type": "code",
   "source": [
    "combined_df.columns"
   ],
   "metadata": {
    "colab": {
     "base_uri": "https://localhost:8080/"
    },
    "id": "Fm-Gm2A5AThU",
    "executionInfo": {
     "status": "ok",
     "timestamp": 1715797816952,
     "user_tz": 300,
     "elapsed": 3,
     "user": {
      "displayName": "Zeyu Yan",
      "userId": "00512041571302287004"
     }
    },
    "outputId": "6257e0fb-3fdf-48c5-86fd-18df19dde5c6"
   },
   "execution_count": 7,
   "outputs": [
    {
     "output_type": "execute_result",
     "data": {
      "text/plain": [
       "Index(['question', 'ground_truth', 'answer', 'contexts', '__index_level_0__',\n",
       "       'context_precision', 'faithfulness', 'answer_relevancy',\n",
       "       'context_recall', 'retrieval_method', 'prompt_level'],\n",
       "      dtype='object')"
      ]
     },
     "metadata": {},
     "execution_count": 7
    }
   ]
  },
  {
   "cell_type": "code",
   "source": [
    "cols_to_use = [\n",
    "    'context_precision',\n",
    "    'faithfulness',\n",
    "    'answer_relevancy',\n",
    "    'context_recall',\n",
    "]"
   ],
   "metadata": {
    "id": "nZI2ZpcoATpu"
   },
   "execution_count": null,
   "outputs": []
  },
  {
   "cell_type": "code",
   "source": [
    "ragas_res = {}\n",
    "\n",
    "for filename in filenames:\n",
    "    parts = filename.split('_')\n",
    "    if filename.startswith('df'):\n",
    "        retrieval_method = parts[1]  # 'vector' or 'graph'\n",
    "        prompt_level = parts[2]      # 'no', 'low', or 'high'\n",
    "    else:\n",
    "        retrieval_method = parts[2]  # 'vector' or 'graph'\n",
    "        prompt_level = parts[3]      # 'no', 'low', or 'high'\n",
    "\n",
    "    if retrieval_method not in ragas_res:\n",
    "        ragas_res[retrieval_method] = {}\n",
    "\n",
    "    if prompt_level not in ragas_res[retrieval_method]:\n",
    "        ragas_res[retrieval_method][prompt_level] = {}\n",
    "\n",
    "    df = pd.read_csv(f'{data_path}/{filename}', low_memory=False)\n",
    "\n",
    "    for col in cols_to_use:\n",
    "        if col not in ragas_res[retrieval_method][prompt_level]:\n",
    "            ragas_res[retrieval_method][prompt_level][col] = {}\n",
    "\n",
    "        mean_value = df[col].mean()\n",
    "        ragas_res[retrieval_method][prompt_level][col]['mean'] = mean_value\n",
    "\n",
    "        std_value = df[col].std()\n",
    "        ragas_res[retrieval_method][prompt_level][col]['std'] = std_value\n",
    "\n",
    "ragas_res"
   ],
   "metadata": {
    "colab": {
     "base_uri": "https://localhost:8080/"
    },
    "id": "BwDrOu7dATth",
    "executionInfo": {
     "status": "ok",
     "timestamp": 1715722612060,
     "user_tz": 300,
     "elapsed": 477,
     "user": {
      "displayName": "Zeyu Yan",
      "userId": "00512041571302287004"
     }
    },
    "outputId": "13f45c0f-dd85-446f-9ba2-54bd9cce1d33"
   },
   "outputs": [],
   "execution_count": null
  },
  {
   "metadata": {},
   "cell_type": "code",
   "outputs": [],
   "execution_count": null,
   "source": "# Save ragas_res as .json file"
  }
 ]
}
