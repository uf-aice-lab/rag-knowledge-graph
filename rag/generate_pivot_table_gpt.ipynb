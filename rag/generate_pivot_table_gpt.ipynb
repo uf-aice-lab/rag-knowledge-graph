{
 "nbformat": 4,
 "nbformat_minor": 0,
 "metadata": {
  "colab": {
   "provenance": [],
   "mount_file_id": "1P4q-Reeg3dXqIlwIN-8r93hvbsyEwKQ2",
   "authorship_tag": "ABX9TyMVeKCLkT9FFFFyD+skjJZr"
  },
  "kernelspec": {
   "name": "python3",
   "display_name": "Python 3"
  },
  "language_info": {
   "name": "python"
  }
 },
 "cells": [
  {
   "cell_type": "code",
   "execution_count": 1,
   "metadata": {
    "id": "hPwJsqIk0Nwu",
    "executionInfo": {
     "status": "ok",
     "timestamp": 1715635058650,
     "user_tz": 300,
     "elapsed": 694,
     "user": {
      "displayName": "Zeyu Yan",
      "userId": "00512041571302287004"
     }
    }
   },
   "outputs": [],
   "source": [
    "import pandas as pd"
   ]
  },
  {
   "cell_type": "code",
   "source": [
    "pd.set_option('display.max_columns', None)\n",
    "pd.set_option('display.max_colwidth', None)"
   ],
   "metadata": {
    "id": "3PR9Ze-n0ZOz",
    "executionInfo": {
     "status": "ok",
     "timestamp": 1715635072772,
     "user_tz": 300,
     "elapsed": 2,
     "user": {
      "displayName": "Zeyu Yan",
      "userId": "00512041571302287004"
     }
    }
   },
   "execution_count": 2,
   "outputs": []
  },
  {
   "cell_type": "code",
   "source": "# Define root_path",
   "metadata": {
    "id": "N0bArxq20ZTG",
    "executionInfo": {
     "status": "ok",
     "timestamp": 1715635098409,
     "user_tz": 300,
     "elapsed": 146,
     "user": {
      "displayName": "Zeyu Yan",
      "userId": "00512041571302287004"
     }
    }
   },
   "execution_count": 3,
   "outputs": []
  },
  {
   "cell_type": "code",
   "source": [
    "# Load calc_df\n",
    "calc_df.shape"
   ],
   "metadata": {
    "colab": {
     "base_uri": "https://localhost:8080/"
    },
    "id": "c12cM23A0ZW7",
    "executionInfo": {
     "status": "ok",
     "timestamp": 1715635131678,
     "user_tz": 300,
     "elapsed": 9744,
     "user": {
      "displayName": "Zeyu Yan",
      "userId": "00512041571302287004"
     }
    },
    "outputId": "15500901-bf20-4671-b23e-e499b3b35b7a"
   },
   "outputs": [],
   "execution_count": null
  },
  {
   "cell_type": "code",
   "source": [
    "# Step 1: Filter columns\n",
    "score_columns = [col for col in calc_df.columns if \"score\" in col]\n",
    "\n",
    "# Step 2: Extract hierarchy information and prepare data\n",
    "data = []\n",
    "for col in score_columns:\n",
    "    parts = col.split('_')\n",
    "    if col.startswith('bleu'):\n",
    "        type_ = parts[2]\n",
    "        guidance = parts[3]\n",
    "    elif col.startswith('bert'):\n",
    "        type_ = parts[3]\n",
    "        guidance = parts[4]\n",
    "    else:\n",
    "        type_ = parts[3]\n",
    "        guidance = parts[4]\n",
    "    ref_context = \"reference\" if \"reference\" in col else \"context\"\n",
    "    score_type = parts[0] + '_' + parts[1]  # bleu_score, bert_score_f, cross_encoder_score\n",
    "    # Calculate the mean value for each column\n",
    "    mean_score = calc_df[col].mean()\n",
    "    std_score = calc_df[col].std()\n",
    "    data.append([type_, guidance, ref_context, score_type, mean_score, std_score])\n",
    "\n",
    "# Convert the list to a DataFrame\n",
    "pivot_data = pd.DataFrame(data, columns=['Type', 'Guidance', 'Reference/Context', 'Score Type', 'Mean Score', 'Std Score'])\n",
    "pivot_data"
   ],
   "metadata": {
    "colab": {
     "base_uri": "https://localhost:8080/",
     "height": 1000
    },
    "id": "5haSS8er0Zav",
    "executionInfo": {
     "status": "ok",
     "timestamp": 1715635426929,
     "user_tz": 300,
     "elapsed": 179,
     "user": {
      "displayName": "Zeyu Yan",
      "userId": "00512041571302287004"
     }
    },
    "outputId": "0f58e83c-1662-4d0f-82f3-2555a2d370f1"
   },
   "outputs": [],
   "execution_count": null
  },
  {
   "cell_type": "code",
   "source": [
    "# Step 3: Create pivot tables for mean score and standard deviation score\n",
    "pivot_table_mean = pivot_data.pivot_table(index=['Type', 'Guidance', 'Reference/Context'], columns='Score Type', values='Mean Score', aggfunc='first')\n",
    "pivot_table_std = pivot_data.pivot_table(index=['Type', 'Guidance', 'Reference/Context'], columns='Score Type', values='Std Score', aggfunc='first')\n",
    "\n",
    "# Step 4: Combine the two pivot tables\n",
    "pivot_table_combined = pd.concat([pivot_table_mean, pivot_table_std], axis=1, keys=['Mean Score', 'Std Score'])\n",
    "\n",
    "# Flatten the columns for better readability\n",
    "pivot_table_combined.columns = [f'{metric}_{score_type}' for metric, score_type in pivot_table_combined.columns]\n",
    "\n",
    "pivot_table_combined"
   ],
   "metadata": {
    "colab": {
     "base_uri": "https://localhost:8080/",
     "height": 645
    },
    "id": "e-vFAv8x0ZeT",
    "executionInfo": {
     "status": "ok",
     "timestamp": 1715635599784,
     "user_tz": 300,
     "elapsed": 278,
     "user": {
      "displayName": "Zeyu Yan",
      "userId": "00512041571302287004"
     }
    },
    "outputId": "8b592ef7-bdf0-4a81-e52d-d4b558fab168"
   },
   "outputs": [],
   "execution_count": null
  },
  {
   "cell_type": "code",
   "source": [
    "# Define excel_path\n",
    "pivot_data.to_excel(excel_path, index=False)"
   ],
   "metadata": {
    "id": "K99YGmIY0Zh4",
    "executionInfo": {
     "status": "ok",
     "timestamp": 1715635824648,
     "user_tz": 300,
     "elapsed": 552,
     "user": {
      "displayName": "Zeyu Yan",
      "userId": "00512041571302287004"
     }
    }
   },
   "execution_count": 7,
   "outputs": []
  },
  {
   "cell_type": "code",
   "source": [],
   "metadata": {
    "id": "w4kYZF8Y23zK"
   },
   "execution_count": null,
   "outputs": []
  },
  {
   "cell_type": "code",
   "source": [],
   "metadata": {
    "id": "R3_WXDVy233O"
   },
   "execution_count": null,
   "outputs": []
  },
  {
   "cell_type": "code",
   "source": [],
   "metadata": {
    "id": "pc4cULZ-236z"
   },
   "execution_count": null,
   "outputs": []
  }
 ]
}
