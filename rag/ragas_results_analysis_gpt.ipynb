{
 "nbformat": 4,
 "nbformat_minor": 0,
 "metadata": {
  "colab": {
   "provenance": [],
   "mount_file_id": "1QsCb8CspUDeBhcDl6rduZjgqjT1WYDP4",
   "authorship_tag": "ABX9TyM4GJWh0o1QOwjpuL5OSv6R"
  },
  "kernelspec": {
   "name": "python3",
   "display_name": "Python 3"
  },
  "language_info": {
   "name": "python"
  }
 },
 "cells": [
  {
   "cell_type": "code",
   "execution_count": 18,
   "metadata": {
    "id": "YVtF2CLr3G22",
    "executionInfo": {
     "status": "ok",
     "timestamp": 1715704095206,
     "user_tz": 300,
     "elapsed": 357,
     "user": {
      "displayName": "Zeyu Yan",
      "userId": "00512041571302287004"
     }
    }
   },
   "outputs": [],
   "source": [
    "import pandas as pd\n",
    "import json"
   ]
  },
  {
   "cell_type": "code",
   "source": [
    "pd.set_option('display.max_columns', None)\n",
    "pd.set_option('display.max_colwidth', None)"
   ],
   "metadata": {
    "id": "t3bSBFuP3TNp",
    "executionInfo": {
     "status": "ok",
     "timestamp": 1715702953352,
     "user_tz": 300,
     "elapsed": 2,
     "user": {
      "displayName": "Zeyu Yan",
      "userId": "00512041571302287004"
     }
    }
   },
   "execution_count": 2,
   "outputs": []
  },
  {
   "cell_type": "code",
   "source": [
    "root_path = '/content/drive/MyDrive/Colab_Notebooks_New/LlamaIndex'\n",
    "data_path = f'{root_path}/data'"
   ],
   "metadata": {
    "id": "TrUBP2J23TRu",
    "executionInfo": {
     "status": "ok",
     "timestamp": 1715702957354,
     "user_tz": 300,
     "elapsed": 2,
     "user": {
      "displayName": "Zeyu Yan",
      "userId": "00512041571302287004"
     }
    }
   },
   "execution_count": 3,
   "outputs": []
  },
  {
   "cell_type": "code",
   "source": [
    "filenames = [\n",
    "    'df_vector_no_gpt.csv',\n",
    "    'df_vector_low_gpt.csv',\n",
    "    'df_vector_high_gpt.csv',\n",
    "    'df_graph_no_gpt.csv',\n",
    "    'df_graph_low_gpt.csv',\n",
    "    'df_graph_high_gpt.csv',\n",
    "]"
   ],
   "metadata": {
    "id": "eh4J1JDm3TVB",
    "executionInfo": {
     "status": "ok",
     "timestamp": 1715703218267,
     "user_tz": 300,
     "elapsed": 2,
     "user": {
      "displayName": "Zeyu Yan",
      "userId": "00512041571302287004"
     }
    }
   },
   "execution_count": 7,
   "outputs": []
  },
  {
   "cell_type": "code",
   "source": [
    "# Initialize an empty list to hold the individual DataFrames\n",
    "dfs = []\n",
    "\n",
    "# Loop through the filenames, read each file, add extra columns, and append the DataFrame to the list\n",
    "for filename in filenames:\n",
    "    # Read the CSV file into a DataFrame\n",
    "    df = pd.read_csv(f'{data_path}/{filename}', low_memory=False)\n",
    "\n",
    "    # Extract retrieval_method and prompt_level from the filename\n",
    "    parts = filename.split('_')\n",
    "    retrieval_method = parts[1]  # 'vector' or 'graph'\n",
    "    prompt_level = parts[2]      # 'no', 'low', or 'high'\n",
    "\n",
    "    # Add the extra columns\n",
    "    df['retrieval_method'] = retrieval_method\n",
    "    df['prompt_level'] = prompt_level\n",
    "\n",
    "    # Append the DataFrame to the list\n",
    "    dfs.append(df)\n",
    "\n",
    "# Concatenate all DataFrames in the list into a single DataFrame\n",
    "combined_df = pd.concat(dfs, ignore_index=True)"
   ],
   "metadata": {
    "id": "B3CHxbKS51Ds",
    "executionInfo": {
     "status": "ok",
     "timestamp": 1715703635926,
     "user_tz": 300,
     "elapsed": 704,
     "user": {
      "displayName": "Zeyu Yan",
      "userId": "00512041571302287004"
     }
    }
   },
   "execution_count": 12,
   "outputs": []
  },
  {
   "cell_type": "code",
   "source": [
    "combined_df.shape"
   ],
   "metadata": {
    "colab": {
     "base_uri": "https://localhost:8080/"
    },
    "id": "ND2RUGjl4L0E",
    "executionInfo": {
     "status": "ok",
     "timestamp": 1715703638207,
     "user_tz": 300,
     "elapsed": 3,
     "user": {
      "displayName": "Zeyu Yan",
      "userId": "00512041571302287004"
     }
    },
    "outputId": "53c43390-c50c-4ad2-f216-9681e48bc9aa"
   },
   "execution_count": 13,
   "outputs": [
    {
     "output_type": "execute_result",
     "data": {
      "text/plain": [
       "(3000, 11)"
      ]
     },
     "metadata": {},
     "execution_count": 13
    }
   ]
  },
  {
   "cell_type": "code",
   "source": [
    "combined_df.columns"
   ],
   "metadata": {
    "colab": {
     "base_uri": "https://localhost:8080/"
    },
    "id": "ux5wDiUw4L4Z",
    "executionInfo": {
     "status": "ok",
     "timestamp": 1715703641006,
     "user_tz": 300,
     "elapsed": 1,
     "user": {
      "displayName": "Zeyu Yan",
      "userId": "00512041571302287004"
     }
    },
    "outputId": "78c07fc8-3f3d-4794-c93f-3e763ac5e288"
   },
   "execution_count": 14,
   "outputs": [
    {
     "output_type": "execute_result",
     "data": {
      "text/plain": [
       "Index(['question', 'ground_truth', 'answer', 'contexts', '__index_level_0__',\n",
       "       'context_precision', 'faithfulness', 'answer_relevancy',\n",
       "       'context_recall', 'retrieval_method', 'prompt_level'],\n",
       "      dtype='object')"
      ]
     },
     "metadata": {},
     "execution_count": 14
    }
   ]
  },
  {
   "cell_type": "code",
   "source": [
    "combined_df.to_csv(f'{data_path}/regas_complete_results_gpt.csv', index=False)"
   ],
   "metadata": {
    "id": "r4iFgUPp4L8e",
    "executionInfo": {
     "status": "ok",
     "timestamp": 1715703649234,
     "user_tz": 300,
     "elapsed": 1344,
     "user": {
      "displayName": "Zeyu Yan",
      "userId": "00512041571302287004"
     }
    }
   },
   "execution_count": 15,
   "outputs": []
  },
  {
   "cell_type": "code",
   "source": [
    "cols_to_use = [\n",
    "    'context_precision',\n",
    "    'faithfulness',\n",
    "    'answer_relevancy',\n",
    "    'context_recall',\n",
    "]"
   ],
   "metadata": {
    "id": "FaDbztJW4MAS",
    "executionInfo": {
     "status": "ok",
     "timestamp": 1715703866844,
     "user_tz": 300,
     "elapsed": 277,
     "user": {
      "displayName": "Zeyu Yan",
      "userId": "00512041571302287004"
     }
    }
   },
   "execution_count": 16,
   "outputs": []
  },
  {
   "cell_type": "code",
   "source": [
    "ragas_res = {}\n",
    "\n",
    "for filename in filenames:\n",
    "    parts = filename.split('_')\n",
    "    retrieval_method = parts[1]  # 'vector' or 'graph'\n",
    "    prompt_level = parts[2]      # 'no', 'low', or 'high'\n",
    "\n",
    "    if retrieval_method not in ragas_res:\n",
    "        ragas_res[retrieval_method] = {}\n",
    "\n",
    "    if prompt_level not in ragas_res[retrieval_method]:\n",
    "        ragas_res[retrieval_method][prompt_level] = {}\n",
    "\n",
    "    df = pd.read_csv(f'{data_path}/{filename}', low_memory=False)\n",
    "\n",
    "    for col in cols_to_use:\n",
    "        if col not in ragas_res[retrieval_method][prompt_level]:\n",
    "            ragas_res[retrieval_method][prompt_level][col] = {}\n",
    "\n",
    "        mean_value = df[col].mean()\n",
    "        ragas_res[retrieval_method][prompt_level][col]['mean'] = mean_value\n",
    "\n",
    "        std_value = df[col].std()\n",
    "        ragas_res[retrieval_method][prompt_level][col]['std'] = std_value\n",
    "\n",
    "ragas_res"
   ],
   "metadata": {
    "colab": {
     "base_uri": "https://localhost:8080/"
    },
    "id": "cBmEfMu54w7A",
    "executionInfo": {
     "status": "ok",
     "timestamp": 1715704061773,
     "user_tz": 300,
     "elapsed": 645,
     "user": {
      "displayName": "Zeyu Yan",
      "userId": "00512041571302287004"
     }
    },
    "outputId": "2041fd6c-b2ae-449f-a9cc-0e5f3733c7e3"
   },
   "outputs": [],
   "execution_count": null
  },
  {
   "cell_type": "code",
   "source": [
    "# Save ragas_res as .json file\n",
    "with open(f'{data_path}/ragas_res_gpt.json', 'w') as f:\n",
    "    json.dump(ragas_res, f)"
   ],
   "metadata": {
    "id": "9QTy2kWO4w_k",
    "executionInfo": {
     "status": "ok",
     "timestamp": 1715704145733,
     "user_tz": 300,
     "elapsed": 584,
     "user": {
      "displayName": "Zeyu Yan",
      "userId": "00512041571302287004"
     }
    }
   },
   "execution_count": 19,
   "outputs": []
  },
  {
   "cell_type": "code",
   "source": [],
   "metadata": {
    "id": "2Q_r6CJL4xDY"
   },
   "execution_count": null,
   "outputs": []
  },
  {
   "cell_type": "code",
   "source": [],
   "metadata": {
    "id": "oiOpSPuY4xHe"
   },
   "execution_count": null,
   "outputs": []
  },
  {
   "cell_type": "code",
   "source": [],
   "metadata": {
    "id": "5OQu3ImO3Tb1"
   },
   "execution_count": null,
   "outputs": []
  }
 ]
}
