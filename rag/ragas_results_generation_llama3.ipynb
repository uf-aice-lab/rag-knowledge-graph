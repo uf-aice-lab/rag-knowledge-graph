{
 "nbformat": 4,
 "nbformat_minor": 0,
 "metadata": {
  "colab": {
   "provenance": [],
   "mount_file_id": "1l9-ZhQ_ZUyIKtgmAcWmykn2wSZVZe5P0",
   "authorship_tag": "ABX9TyOTlaJqmYrS+1xxLDyDj9RV"
  },
  "kernelspec": {
   "name": "python3",
   "display_name": "Python 3"
  },
  "language_info": {
   "name": "python"
  },
  "widgets": {
   "application/vnd.jupyter.widget-state+json": {
    "f5542e7300db484faa68d5275e445c7c": {
     "model_module": "@jupyter-widgets/controls",
     "model_name": "HBoxModel",
     "model_module_version": "1.5.0",
     "state": {
      "_dom_classes": [],
      "_model_module": "@jupyter-widgets/controls",
      "_model_module_version": "1.5.0",
      "_model_name": "HBoxModel",
      "_view_count": null,
      "_view_module": "@jupyter-widgets/controls",
      "_view_module_version": "1.5.0",
      "_view_name": "HBoxView",
      "box_style": "",
      "children": [
       "IPY_MODEL_3d4c3a53847841a1a05a424790439c1d",
       "IPY_MODEL_e9a822f3419f44a6aaeac6f51e1a2577",
       "IPY_MODEL_19c104460bcc46f4a9376d71aa0a2a96"
      ],
      "layout": "IPY_MODEL_f66cce64d04e46dcbc75b6e0328ff1c7"
     }
    },
    "3d4c3a53847841a1a05a424790439c1d": {
     "model_module": "@jupyter-widgets/controls",
     "model_name": "HTMLModel",
     "model_module_version": "1.5.0",
     "state": {
      "_dom_classes": [],
      "_model_module": "@jupyter-widgets/controls",
      "_model_module_version": "1.5.0",
      "_model_name": "HTMLModel",
      "_view_count": null,
      "_view_module": "@jupyter-widgets/controls",
      "_view_module_version": "1.5.0",
      "_view_name": "HTMLView",
      "description": "",
      "description_tooltip": null,
      "layout": "IPY_MODEL_36f13d0c674749c1a1a0a8df66b6aade",
      "placeholder": "​",
      "style": "IPY_MODEL_552a7dcb28214c4d9d7d4c9c92c04247",
      "value": "Evaluating: 100%"
     }
    },
    "e9a822f3419f44a6aaeac6f51e1a2577": {
     "model_module": "@jupyter-widgets/controls",
     "model_name": "FloatProgressModel",
     "model_module_version": "1.5.0",
     "state": {
      "_dom_classes": [],
      "_model_module": "@jupyter-widgets/controls",
      "_model_module_version": "1.5.0",
      "_model_name": "FloatProgressModel",
      "_view_count": null,
      "_view_module": "@jupyter-widgets/controls",
      "_view_module_version": "1.5.0",
      "_view_name": "ProgressView",
      "bar_style": "success",
      "description": "",
      "description_tooltip": null,
      "layout": "IPY_MODEL_8154ec644eb14c90b3c63d307e192035",
      "max": 2000,
      "min": 0,
      "orientation": "horizontal",
      "style": "IPY_MODEL_a7e767ab83994b85bfa6d116e89f36ff",
      "value": 2000
     }
    },
    "19c104460bcc46f4a9376d71aa0a2a96": {
     "model_module": "@jupyter-widgets/controls",
     "model_name": "HTMLModel",
     "model_module_version": "1.5.0",
     "state": {
      "_dom_classes": [],
      "_model_module": "@jupyter-widgets/controls",
      "_model_module_version": "1.5.0",
      "_model_name": "HTMLModel",
      "_view_count": null,
      "_view_module": "@jupyter-widgets/controls",
      "_view_module_version": "1.5.0",
      "_view_name": "HTMLView",
      "description": "",
      "description_tooltip": null,
      "layout": "IPY_MODEL_67adb1f8ca544c4cac63df1bde1172c8",
      "placeholder": "​",
      "style": "IPY_MODEL_67e652141724484dbb792a8f99878f6f",
      "value": " 2000/2000 [32:59&lt;00:00,  1.95s/it]"
     }
    },
    "f66cce64d04e46dcbc75b6e0328ff1c7": {
     "model_module": "@jupyter-widgets/base",
     "model_name": "LayoutModel",
     "model_module_version": "1.2.0",
     "state": {
      "_model_module": "@jupyter-widgets/base",
      "_model_module_version": "1.2.0",
      "_model_name": "LayoutModel",
      "_view_count": null,
      "_view_module": "@jupyter-widgets/base",
      "_view_module_version": "1.2.0",
      "_view_name": "LayoutView",
      "align_content": null,
      "align_items": null,
      "align_self": null,
      "border": null,
      "bottom": null,
      "display": null,
      "flex": null,
      "flex_flow": null,
      "grid_area": null,
      "grid_auto_columns": null,
      "grid_auto_flow": null,
      "grid_auto_rows": null,
      "grid_column": null,
      "grid_gap": null,
      "grid_row": null,
      "grid_template_areas": null,
      "grid_template_columns": null,
      "grid_template_rows": null,
      "height": null,
      "justify_content": null,
      "justify_items": null,
      "left": null,
      "margin": null,
      "max_height": null,
      "max_width": null,
      "min_height": null,
      "min_width": null,
      "object_fit": null,
      "object_position": null,
      "order": null,
      "overflow": null,
      "overflow_x": null,
      "overflow_y": null,
      "padding": null,
      "right": null,
      "top": null,
      "visibility": null,
      "width": null
     }
    },
    "36f13d0c674749c1a1a0a8df66b6aade": {
     "model_module": "@jupyter-widgets/base",
     "model_name": "LayoutModel",
     "model_module_version": "1.2.0",
     "state": {
      "_model_module": "@jupyter-widgets/base",
      "_model_module_version": "1.2.0",
      "_model_name": "LayoutModel",
      "_view_count": null,
      "_view_module": "@jupyter-widgets/base",
      "_view_module_version": "1.2.0",
      "_view_name": "LayoutView",
      "align_content": null,
      "align_items": null,
      "align_self": null,
      "border": null,
      "bottom": null,
      "display": null,
      "flex": null,
      "flex_flow": null,
      "grid_area": null,
      "grid_auto_columns": null,
      "grid_auto_flow": null,
      "grid_auto_rows": null,
      "grid_column": null,
      "grid_gap": null,
      "grid_row": null,
      "grid_template_areas": null,
      "grid_template_columns": null,
      "grid_template_rows": null,
      "height": null,
      "justify_content": null,
      "justify_items": null,
      "left": null,
      "margin": null,
      "max_height": null,
      "max_width": null,
      "min_height": null,
      "min_width": null,
      "object_fit": null,
      "object_position": null,
      "order": null,
      "overflow": null,
      "overflow_x": null,
      "overflow_y": null,
      "padding": null,
      "right": null,
      "top": null,
      "visibility": null,
      "width": null
     }
    },
    "552a7dcb28214c4d9d7d4c9c92c04247": {
     "model_module": "@jupyter-widgets/controls",
     "model_name": "DescriptionStyleModel",
     "model_module_version": "1.5.0",
     "state": {
      "_model_module": "@jupyter-widgets/controls",
      "_model_module_version": "1.5.0",
      "_model_name": "DescriptionStyleModel",
      "_view_count": null,
      "_view_module": "@jupyter-widgets/base",
      "_view_module_version": "1.2.0",
      "_view_name": "StyleView",
      "description_width": ""
     }
    },
    "8154ec644eb14c90b3c63d307e192035": {
     "model_module": "@jupyter-widgets/base",
     "model_name": "LayoutModel",
     "model_module_version": "1.2.0",
     "state": {
      "_model_module": "@jupyter-widgets/base",
      "_model_module_version": "1.2.0",
      "_model_name": "LayoutModel",
      "_view_count": null,
      "_view_module": "@jupyter-widgets/base",
      "_view_module_version": "1.2.0",
      "_view_name": "LayoutView",
      "align_content": null,
      "align_items": null,
      "align_self": null,
      "border": null,
      "bottom": null,
      "display": null,
      "flex": null,
      "flex_flow": null,
      "grid_area": null,
      "grid_auto_columns": null,
      "grid_auto_flow": null,
      "grid_auto_rows": null,
      "grid_column": null,
      "grid_gap": null,
      "grid_row": null,
      "grid_template_areas": null,
      "grid_template_columns": null,
      "grid_template_rows": null,
      "height": null,
      "justify_content": null,
      "justify_items": null,
      "left": null,
      "margin": null,
      "max_height": null,
      "max_width": null,
      "min_height": null,
      "min_width": null,
      "object_fit": null,
      "object_position": null,
      "order": null,
      "overflow": null,
      "overflow_x": null,
      "overflow_y": null,
      "padding": null,
      "right": null,
      "top": null,
      "visibility": null,
      "width": null
     }
    },
    "a7e767ab83994b85bfa6d116e89f36ff": {
     "model_module": "@jupyter-widgets/controls",
     "model_name": "ProgressStyleModel",
     "model_module_version": "1.5.0",
     "state": {
      "_model_module": "@jupyter-widgets/controls",
      "_model_module_version": "1.5.0",
      "_model_name": "ProgressStyleModel",
      "_view_count": null,
      "_view_module": "@jupyter-widgets/base",
      "_view_module_version": "1.2.0",
      "_view_name": "StyleView",
      "bar_color": null,
      "description_width": ""
     }
    },
    "67adb1f8ca544c4cac63df1bde1172c8": {
     "model_module": "@jupyter-widgets/base",
     "model_name": "LayoutModel",
     "model_module_version": "1.2.0",
     "state": {
      "_model_module": "@jupyter-widgets/base",
      "_model_module_version": "1.2.0",
      "_model_name": "LayoutModel",
      "_view_count": null,
      "_view_module": "@jupyter-widgets/base",
      "_view_module_version": "1.2.0",
      "_view_name": "LayoutView",
      "align_content": null,
      "align_items": null,
      "align_self": null,
      "border": null,
      "bottom": null,
      "display": null,
      "flex": null,
      "flex_flow": null,
      "grid_area": null,
      "grid_auto_columns": null,
      "grid_auto_flow": null,
      "grid_auto_rows": null,
      "grid_column": null,
      "grid_gap": null,
      "grid_row": null,
      "grid_template_areas": null,
      "grid_template_columns": null,
      "grid_template_rows": null,
      "height": null,
      "justify_content": null,
      "justify_items": null,
      "left": null,
      "margin": null,
      "max_height": null,
      "max_width": null,
      "min_height": null,
      "min_width": null,
      "object_fit": null,
      "object_position": null,
      "order": null,
      "overflow": null,
      "overflow_x": null,
      "overflow_y": null,
      "padding": null,
      "right": null,
      "top": null,
      "visibility": null,
      "width": null
     }
    },
    "67e652141724484dbb792a8f99878f6f": {
     "model_module": "@jupyter-widgets/controls",
     "model_name": "DescriptionStyleModel",
     "model_module_version": "1.5.0",
     "state": {
      "_model_module": "@jupyter-widgets/controls",
      "_model_module_version": "1.5.0",
      "_model_name": "DescriptionStyleModel",
      "_view_count": null,
      "_view_module": "@jupyter-widgets/base",
      "_view_module_version": "1.2.0",
      "_view_name": "StyleView",
      "description_width": ""
     }
    },
    "58063205d4894850b4ecba55fdfc2d1e": {
     "model_module": "@jupyter-widgets/controls",
     "model_name": "HBoxModel",
     "model_module_version": "1.5.0",
     "state": {
      "_dom_classes": [],
      "_model_module": "@jupyter-widgets/controls",
      "_model_module_version": "1.5.0",
      "_model_name": "HBoxModel",
      "_view_count": null,
      "_view_module": "@jupyter-widgets/controls",
      "_view_module_version": "1.5.0",
      "_view_name": "HBoxView",
      "box_style": "",
      "children": [
       "IPY_MODEL_1714486bd5544d8e8d5d22d2098dff81",
       "IPY_MODEL_8c7533f51dc24ce4ab2946c4ec70937c",
       "IPY_MODEL_0eb68f40906a4df39dcadd61f9fa2149"
      ],
      "layout": "IPY_MODEL_740519da28af47e3b2696519ad541b35"
     }
    },
    "1714486bd5544d8e8d5d22d2098dff81": {
     "model_module": "@jupyter-widgets/controls",
     "model_name": "HTMLModel",
     "model_module_version": "1.5.0",
     "state": {
      "_dom_classes": [],
      "_model_module": "@jupyter-widgets/controls",
      "_model_module_version": "1.5.0",
      "_model_name": "HTMLModel",
      "_view_count": null,
      "_view_module": "@jupyter-widgets/controls",
      "_view_module_version": "1.5.0",
      "_view_name": "HTMLView",
      "description": "",
      "description_tooltip": null,
      "layout": "IPY_MODEL_8079eba6c32d405aae86104f554bf6ef",
      "placeholder": "​",
      "style": "IPY_MODEL_f859f747bf9b45b8bdcf1cf3c265250e",
      "value": "Evaluating: 100%"
     }
    },
    "8c7533f51dc24ce4ab2946c4ec70937c": {
     "model_module": "@jupyter-widgets/controls",
     "model_name": "FloatProgressModel",
     "model_module_version": "1.5.0",
     "state": {
      "_dom_classes": [],
      "_model_module": "@jupyter-widgets/controls",
      "_model_module_version": "1.5.0",
      "_model_name": "FloatProgressModel",
      "_view_count": null,
      "_view_module": "@jupyter-widgets/controls",
      "_view_module_version": "1.5.0",
      "_view_name": "ProgressView",
      "bar_style": "success",
      "description": "",
      "description_tooltip": null,
      "layout": "IPY_MODEL_1cea8957ec8f43948d20d7e694990172",
      "max": 2000,
      "min": 0,
      "orientation": "horizontal",
      "style": "IPY_MODEL_1068319b64d445f5a7a34c39308cdfd3",
      "value": 2000
     }
    },
    "0eb68f40906a4df39dcadd61f9fa2149": {
     "model_module": "@jupyter-widgets/controls",
     "model_name": "HTMLModel",
     "model_module_version": "1.5.0",
     "state": {
      "_dom_classes": [],
      "_model_module": "@jupyter-widgets/controls",
      "_model_module_version": "1.5.0",
      "_model_name": "HTMLModel",
      "_view_count": null,
      "_view_module": "@jupyter-widgets/controls",
      "_view_module_version": "1.5.0",
      "_view_name": "HTMLView",
      "description": "",
      "description_tooltip": null,
      "layout": "IPY_MODEL_4a07b058bae84f8d869c17286a7f1ffa",
      "placeholder": "​",
      "style": "IPY_MODEL_a065334cdd0e4791862cbf58726ddf64",
      "value": " 2000/2000 [30:35&lt;00:00,  1.98s/it]"
     }
    },
    "740519da28af47e3b2696519ad541b35": {
     "model_module": "@jupyter-widgets/base",
     "model_name": "LayoutModel",
     "model_module_version": "1.2.0",
     "state": {
      "_model_module": "@jupyter-widgets/base",
      "_model_module_version": "1.2.0",
      "_model_name": "LayoutModel",
      "_view_count": null,
      "_view_module": "@jupyter-widgets/base",
      "_view_module_version": "1.2.0",
      "_view_name": "LayoutView",
      "align_content": null,
      "align_items": null,
      "align_self": null,
      "border": null,
      "bottom": null,
      "display": null,
      "flex": null,
      "flex_flow": null,
      "grid_area": null,
      "grid_auto_columns": null,
      "grid_auto_flow": null,
      "grid_auto_rows": null,
      "grid_column": null,
      "grid_gap": null,
      "grid_row": null,
      "grid_template_areas": null,
      "grid_template_columns": null,
      "grid_template_rows": null,
      "height": null,
      "justify_content": null,
      "justify_items": null,
      "left": null,
      "margin": null,
      "max_height": null,
      "max_width": null,
      "min_height": null,
      "min_width": null,
      "object_fit": null,
      "object_position": null,
      "order": null,
      "overflow": null,
      "overflow_x": null,
      "overflow_y": null,
      "padding": null,
      "right": null,
      "top": null,
      "visibility": null,
      "width": null
     }
    },
    "8079eba6c32d405aae86104f554bf6ef": {
     "model_module": "@jupyter-widgets/base",
     "model_name": "LayoutModel",
     "model_module_version": "1.2.0",
     "state": {
      "_model_module": "@jupyter-widgets/base",
      "_model_module_version": "1.2.0",
      "_model_name": "LayoutModel",
      "_view_count": null,
      "_view_module": "@jupyter-widgets/base",
      "_view_module_version": "1.2.0",
      "_view_name": "LayoutView",
      "align_content": null,
      "align_items": null,
      "align_self": null,
      "border": null,
      "bottom": null,
      "display": null,
      "flex": null,
      "flex_flow": null,
      "grid_area": null,
      "grid_auto_columns": null,
      "grid_auto_flow": null,
      "grid_auto_rows": null,
      "grid_column": null,
      "grid_gap": null,
      "grid_row": null,
      "grid_template_areas": null,
      "grid_template_columns": null,
      "grid_template_rows": null,
      "height": null,
      "justify_content": null,
      "justify_items": null,
      "left": null,
      "margin": null,
      "max_height": null,
      "max_width": null,
      "min_height": null,
      "min_width": null,
      "object_fit": null,
      "object_position": null,
      "order": null,
      "overflow": null,
      "overflow_x": null,
      "overflow_y": null,
      "padding": null,
      "right": null,
      "top": null,
      "visibility": null,
      "width": null
     }
    },
    "f859f747bf9b45b8bdcf1cf3c265250e": {
     "model_module": "@jupyter-widgets/controls",
     "model_name": "DescriptionStyleModel",
     "model_module_version": "1.5.0",
     "state": {
      "_model_module": "@jupyter-widgets/controls",
      "_model_module_version": "1.5.0",
      "_model_name": "DescriptionStyleModel",
      "_view_count": null,
      "_view_module": "@jupyter-widgets/base",
      "_view_module_version": "1.2.0",
      "_view_name": "StyleView",
      "description_width": ""
     }
    },
    "1cea8957ec8f43948d20d7e694990172": {
     "model_module": "@jupyter-widgets/base",
     "model_name": "LayoutModel",
     "model_module_version": "1.2.0",
     "state": {
      "_model_module": "@jupyter-widgets/base",
      "_model_module_version": "1.2.0",
      "_model_name": "LayoutModel",
      "_view_count": null,
      "_view_module": "@jupyter-widgets/base",
      "_view_module_version": "1.2.0",
      "_view_name": "LayoutView",
      "align_content": null,
      "align_items": null,
      "align_self": null,
      "border": null,
      "bottom": null,
      "display": null,
      "flex": null,
      "flex_flow": null,
      "grid_area": null,
      "grid_auto_columns": null,
      "grid_auto_flow": null,
      "grid_auto_rows": null,
      "grid_column": null,
      "grid_gap": null,
      "grid_row": null,
      "grid_template_areas": null,
      "grid_template_columns": null,
      "grid_template_rows": null,
      "height": null,
      "justify_content": null,
      "justify_items": null,
      "left": null,
      "margin": null,
      "max_height": null,
      "max_width": null,
      "min_height": null,
      "min_width": null,
      "object_fit": null,
      "object_position": null,
      "order": null,
      "overflow": null,
      "overflow_x": null,
      "overflow_y": null,
      "padding": null,
      "right": null,
      "top": null,
      "visibility": null,
      "width": null
     }
    },
    "1068319b64d445f5a7a34c39308cdfd3": {
     "model_module": "@jupyter-widgets/controls",
     "model_name": "ProgressStyleModel",
     "model_module_version": "1.5.0",
     "state": {
      "_model_module": "@jupyter-widgets/controls",
      "_model_module_version": "1.5.0",
      "_model_name": "ProgressStyleModel",
      "_view_count": null,
      "_view_module": "@jupyter-widgets/base",
      "_view_module_version": "1.2.0",
      "_view_name": "StyleView",
      "bar_color": null,
      "description_width": ""
     }
    },
    "4a07b058bae84f8d869c17286a7f1ffa": {
     "model_module": "@jupyter-widgets/base",
     "model_name": "LayoutModel",
     "model_module_version": "1.2.0",
     "state": {
      "_model_module": "@jupyter-widgets/base",
      "_model_module_version": "1.2.0",
      "_model_name": "LayoutModel",
      "_view_count": null,
      "_view_module": "@jupyter-widgets/base",
      "_view_module_version": "1.2.0",
      "_view_name": "LayoutView",
      "align_content": null,
      "align_items": null,
      "align_self": null,
      "border": null,
      "bottom": null,
      "display": null,
      "flex": null,
      "flex_flow": null,
      "grid_area": null,
      "grid_auto_columns": null,
      "grid_auto_flow": null,
      "grid_auto_rows": null,
      "grid_column": null,
      "grid_gap": null,
      "grid_row": null,
      "grid_template_areas": null,
      "grid_template_columns": null,
      "grid_template_rows": null,
      "height": null,
      "justify_content": null,
      "justify_items": null,
      "left": null,
      "margin": null,
      "max_height": null,
      "max_width": null,
      "min_height": null,
      "min_width": null,
      "object_fit": null,
      "object_position": null,
      "order": null,
      "overflow": null,
      "overflow_x": null,
      "overflow_y": null,
      "padding": null,
      "right": null,
      "top": null,
      "visibility": null,
      "width": null
     }
    },
    "a065334cdd0e4791862cbf58726ddf64": {
     "model_module": "@jupyter-widgets/controls",
     "model_name": "DescriptionStyleModel",
     "model_module_version": "1.5.0",
     "state": {
      "_model_module": "@jupyter-widgets/controls",
      "_model_module_version": "1.5.0",
      "_model_name": "DescriptionStyleModel",
      "_view_count": null,
      "_view_module": "@jupyter-widgets/base",
      "_view_module_version": "1.2.0",
      "_view_name": "StyleView",
      "description_width": ""
     }
    },
    "38a4725e64ec47d18b6239b9a5b67b53": {
     "model_module": "@jupyter-widgets/controls",
     "model_name": "HBoxModel",
     "model_module_version": "1.5.0",
     "state": {
      "_dom_classes": [],
      "_model_module": "@jupyter-widgets/controls",
      "_model_module_version": "1.5.0",
      "_model_name": "HBoxModel",
      "_view_count": null,
      "_view_module": "@jupyter-widgets/controls",
      "_view_module_version": "1.5.0",
      "_view_name": "HBoxView",
      "box_style": "",
      "children": [
       "IPY_MODEL_1f2cdd3e7b6545718ce3e560f7db0e25",
       "IPY_MODEL_481a1de6f9b949b1b800c6fdac359d6b",
       "IPY_MODEL_e4c802ce45f34e1980aebbd1029c864d"
      ],
      "layout": "IPY_MODEL_7c7ab3221c784adfa7ee2de1ad782285"
     }
    },
    "1f2cdd3e7b6545718ce3e560f7db0e25": {
     "model_module": "@jupyter-widgets/controls",
     "model_name": "HTMLModel",
     "model_module_version": "1.5.0",
     "state": {
      "_dom_classes": [],
      "_model_module": "@jupyter-widgets/controls",
      "_model_module_version": "1.5.0",
      "_model_name": "HTMLModel",
      "_view_count": null,
      "_view_module": "@jupyter-widgets/controls",
      "_view_module_version": "1.5.0",
      "_view_name": "HTMLView",
      "description": "",
      "description_tooltip": null,
      "layout": "IPY_MODEL_2b5e33b502174feb9a324824815a9a71",
      "placeholder": "​",
      "style": "IPY_MODEL_194c983da0b342e0a55fcdfe3aa400ec",
      "value": "Evaluating: 100%"
     }
    },
    "481a1de6f9b949b1b800c6fdac359d6b": {
     "model_module": "@jupyter-widgets/controls",
     "model_name": "FloatProgressModel",
     "model_module_version": "1.5.0",
     "state": {
      "_dom_classes": [],
      "_model_module": "@jupyter-widgets/controls",
      "_model_module_version": "1.5.0",
      "_model_name": "FloatProgressModel",
      "_view_count": null,
      "_view_module": "@jupyter-widgets/controls",
      "_view_module_version": "1.5.0",
      "_view_name": "ProgressView",
      "bar_style": "success",
      "description": "",
      "description_tooltip": null,
      "layout": "IPY_MODEL_0c374e270b05493ebb4269e0d61df249",
      "max": 2000,
      "min": 0,
      "orientation": "horizontal",
      "style": "IPY_MODEL_9a182fb055814bff9056a002262ddddf",
      "value": 2000
     }
    },
    "e4c802ce45f34e1980aebbd1029c864d": {
     "model_module": "@jupyter-widgets/controls",
     "model_name": "HTMLModel",
     "model_module_version": "1.5.0",
     "state": {
      "_dom_classes": [],
      "_model_module": "@jupyter-widgets/controls",
      "_model_module_version": "1.5.0",
      "_model_name": "HTMLModel",
      "_view_count": null,
      "_view_module": "@jupyter-widgets/controls",
      "_view_module_version": "1.5.0",
      "_view_name": "HTMLView",
      "description": "",
      "description_tooltip": null,
      "layout": "IPY_MODEL_9b25390a3d4b4e68ad964f228e153b14",
      "placeholder": "​",
      "style": "IPY_MODEL_94654fc7090e439f9315159f13838b84",
      "value": " 2000/2000 [29:56&lt;00:00,  1.65s/it]"
     }
    },
    "7c7ab3221c784adfa7ee2de1ad782285": {
     "model_module": "@jupyter-widgets/base",
     "model_name": "LayoutModel",
     "model_module_version": "1.2.0",
     "state": {
      "_model_module": "@jupyter-widgets/base",
      "_model_module_version": "1.2.0",
      "_model_name": "LayoutModel",
      "_view_count": null,
      "_view_module": "@jupyter-widgets/base",
      "_view_module_version": "1.2.0",
      "_view_name": "LayoutView",
      "align_content": null,
      "align_items": null,
      "align_self": null,
      "border": null,
      "bottom": null,
      "display": null,
      "flex": null,
      "flex_flow": null,
      "grid_area": null,
      "grid_auto_columns": null,
      "grid_auto_flow": null,
      "grid_auto_rows": null,
      "grid_column": null,
      "grid_gap": null,
      "grid_row": null,
      "grid_template_areas": null,
      "grid_template_columns": null,
      "grid_template_rows": null,
      "height": null,
      "justify_content": null,
      "justify_items": null,
      "left": null,
      "margin": null,
      "max_height": null,
      "max_width": null,
      "min_height": null,
      "min_width": null,
      "object_fit": null,
      "object_position": null,
      "order": null,
      "overflow": null,
      "overflow_x": null,
      "overflow_y": null,
      "padding": null,
      "right": null,
      "top": null,
      "visibility": null,
      "width": null
     }
    },
    "2b5e33b502174feb9a324824815a9a71": {
     "model_module": "@jupyter-widgets/base",
     "model_name": "LayoutModel",
     "model_module_version": "1.2.0",
     "state": {
      "_model_module": "@jupyter-widgets/base",
      "_model_module_version": "1.2.0",
      "_model_name": "LayoutModel",
      "_view_count": null,
      "_view_module": "@jupyter-widgets/base",
      "_view_module_version": "1.2.0",
      "_view_name": "LayoutView",
      "align_content": null,
      "align_items": null,
      "align_self": null,
      "border": null,
      "bottom": null,
      "display": null,
      "flex": null,
      "flex_flow": null,
      "grid_area": null,
      "grid_auto_columns": null,
      "grid_auto_flow": null,
      "grid_auto_rows": null,
      "grid_column": null,
      "grid_gap": null,
      "grid_row": null,
      "grid_template_areas": null,
      "grid_template_columns": null,
      "grid_template_rows": null,
      "height": null,
      "justify_content": null,
      "justify_items": null,
      "left": null,
      "margin": null,
      "max_height": null,
      "max_width": null,
      "min_height": null,
      "min_width": null,
      "object_fit": null,
      "object_position": null,
      "order": null,
      "overflow": null,
      "overflow_x": null,
      "overflow_y": null,
      "padding": null,
      "right": null,
      "top": null,
      "visibility": null,
      "width": null
     }
    },
    "194c983da0b342e0a55fcdfe3aa400ec": {
     "model_module": "@jupyter-widgets/controls",
     "model_name": "DescriptionStyleModel",
     "model_module_version": "1.5.0",
     "state": {
      "_model_module": "@jupyter-widgets/controls",
      "_model_module_version": "1.5.0",
      "_model_name": "DescriptionStyleModel",
      "_view_count": null,
      "_view_module": "@jupyter-widgets/base",
      "_view_module_version": "1.2.0",
      "_view_name": "StyleView",
      "description_width": ""
     }
    },
    "0c374e270b05493ebb4269e0d61df249": {
     "model_module": "@jupyter-widgets/base",
     "model_name": "LayoutModel",
     "model_module_version": "1.2.0",
     "state": {
      "_model_module": "@jupyter-widgets/base",
      "_model_module_version": "1.2.0",
      "_model_name": "LayoutModel",
      "_view_count": null,
      "_view_module": "@jupyter-widgets/base",
      "_view_module_version": "1.2.0",
      "_view_name": "LayoutView",
      "align_content": null,
      "align_items": null,
      "align_self": null,
      "border": null,
      "bottom": null,
      "display": null,
      "flex": null,
      "flex_flow": null,
      "grid_area": null,
      "grid_auto_columns": null,
      "grid_auto_flow": null,
      "grid_auto_rows": null,
      "grid_column": null,
      "grid_gap": null,
      "grid_row": null,
      "grid_template_areas": null,
      "grid_template_columns": null,
      "grid_template_rows": null,
      "height": null,
      "justify_content": null,
      "justify_items": null,
      "left": null,
      "margin": null,
      "max_height": null,
      "max_width": null,
      "min_height": null,
      "min_width": null,
      "object_fit": null,
      "object_position": null,
      "order": null,
      "overflow": null,
      "overflow_x": null,
      "overflow_y": null,
      "padding": null,
      "right": null,
      "top": null,
      "visibility": null,
      "width": null
     }
    },
    "9a182fb055814bff9056a002262ddddf": {
     "model_module": "@jupyter-widgets/controls",
     "model_name": "ProgressStyleModel",
     "model_module_version": "1.5.0",
     "state": {
      "_model_module": "@jupyter-widgets/controls",
      "_model_module_version": "1.5.0",
      "_model_name": "ProgressStyleModel",
      "_view_count": null,
      "_view_module": "@jupyter-widgets/base",
      "_view_module_version": "1.2.0",
      "_view_name": "StyleView",
      "bar_color": null,
      "description_width": ""
     }
    },
    "9b25390a3d4b4e68ad964f228e153b14": {
     "model_module": "@jupyter-widgets/base",
     "model_name": "LayoutModel",
     "model_module_version": "1.2.0",
     "state": {
      "_model_module": "@jupyter-widgets/base",
      "_model_module_version": "1.2.0",
      "_model_name": "LayoutModel",
      "_view_count": null,
      "_view_module": "@jupyter-widgets/base",
      "_view_module_version": "1.2.0",
      "_view_name": "LayoutView",
      "align_content": null,
      "align_items": null,
      "align_self": null,
      "border": null,
      "bottom": null,
      "display": null,
      "flex": null,
      "flex_flow": null,
      "grid_area": null,
      "grid_auto_columns": null,
      "grid_auto_flow": null,
      "grid_auto_rows": null,
      "grid_column": null,
      "grid_gap": null,
      "grid_row": null,
      "grid_template_areas": null,
      "grid_template_columns": null,
      "grid_template_rows": null,
      "height": null,
      "justify_content": null,
      "justify_items": null,
      "left": null,
      "margin": null,
      "max_height": null,
      "max_width": null,
      "min_height": null,
      "min_width": null,
      "object_fit": null,
      "object_position": null,
      "order": null,
      "overflow": null,
      "overflow_x": null,
      "overflow_y": null,
      "padding": null,
      "right": null,
      "top": null,
      "visibility": null,
      "width": null
     }
    },
    "94654fc7090e439f9315159f13838b84": {
     "model_module": "@jupyter-widgets/controls",
     "model_name": "DescriptionStyleModel",
     "model_module_version": "1.5.0",
     "state": {
      "_model_module": "@jupyter-widgets/controls",
      "_model_module_version": "1.5.0",
      "_model_name": "DescriptionStyleModel",
      "_view_count": null,
      "_view_module": "@jupyter-widgets/base",
      "_view_module_version": "1.2.0",
      "_view_name": "StyleView",
      "description_width": ""
     }
    }
   }
  }
 },
 "cells": [
  {
   "cell_type": "code",
   "execution_count": 1,
   "metadata": {
    "colab": {
     "base_uri": "https://localhost:8080/"
    },
    "id": "m6UmSzCIqbeC",
    "executionInfo": {
     "status": "ok",
     "timestamp": 1715716426895,
     "user_tz": 300,
     "elapsed": 25287,
     "user": {
      "displayName": "Zeyu Yan",
      "userId": "00512041571302287004"
     }
    },
    "outputId": "b278adec-51e0-458b-948d-99b1b4407178"
   },
   "outputs": [
    {
     "output_type": "stream",
     "name": "stdout",
     "text": [
      "\u001B[2K     \u001B[90m━━━━━━━━━━━━━━━━━━━━━━━━━━━━━━━━━━━━━━━━\u001B[0m \u001B[32m81.2/81.2 kB\u001B[0m \u001B[31m2.2 MB/s\u001B[0m eta \u001B[36m0:00:00\u001B[0m\n",
      "\u001B[2K     \u001B[90m━━━━━━━━━━━━━━━━━━━━━━━━━━━━━━━━━━━━━━━━\u001B[0m \u001B[32m542.0/542.0 kB\u001B[0m \u001B[31m8.9 MB/s\u001B[0m eta \u001B[36m0:00:00\u001B[0m\n",
      "\u001B[2K     \u001B[90m━━━━━━━━━━━━━━━━━━━━━━━━━━━━━━━━━━━━━━━━\u001B[0m \u001B[32m1.1/1.1 MB\u001B[0m \u001B[31m11.3 MB/s\u001B[0m eta \u001B[36m0:00:00\u001B[0m\n",
      "\u001B[2K     \u001B[90m━━━━━━━━━━━━━━━━━━━━━━━━━━━━━━━━━━━━━━━━\u001B[0m \u001B[32m1.0/1.0 MB\u001B[0m \u001B[31m13.8 MB/s\u001B[0m eta \u001B[36m0:00:00\u001B[0m\n",
      "\u001B[2K     \u001B[90m━━━━━━━━━━━━━━━━━━━━━━━━━━━━━━━━━━━━━━━━\u001B[0m \u001B[32m302.9/302.9 kB\u001B[0m \u001B[31m12.6 MB/s\u001B[0m eta \u001B[36m0:00:00\u001B[0m\n",
      "\u001B[2K     \u001B[90m━━━━━━━━━━━━━━━━━━━━━━━━━━━━━━━━━━━━━━━━\u001B[0m \u001B[32m2.0/2.0 MB\u001B[0m \u001B[31m20.2 MB/s\u001B[0m eta \u001B[36m0:00:00\u001B[0m\n",
      "\u001B[2K     \u001B[90m━━━━━━━━━━━━━━━━━━━━━━━━━━━━━━━━━━━━━━━━\u001B[0m \u001B[32m320.6/320.6 kB\u001B[0m \u001B[31m23.6 MB/s\u001B[0m eta \u001B[36m0:00:00\u001B[0m\n",
      "\u001B[2K     \u001B[90m━━━━━━━━━━━━━━━━━━━━━━━━━━━━━━━━━━━━━━━━\u001B[0m \u001B[32m71.1/71.1 kB\u001B[0m \u001B[31m6.3 MB/s\u001B[0m eta \u001B[36m0:00:00\u001B[0m\n",
      "\u001B[2K     \u001B[90m━━━━━━━━━━━━━━━━━━━━━━━━━━━━━━━━━━━━━━━━\u001B[0m \u001B[32m116.3/116.3 kB\u001B[0m \u001B[31m5.8 MB/s\u001B[0m eta \u001B[36m0:00:00\u001B[0m\n",
      "\u001B[2K     \u001B[90m━━━━━━━━━━━━━━━━━━━━━━━━━━━━━━━━━━━━━━━━\u001B[0m \u001B[32m194.1/194.1 kB\u001B[0m \u001B[31m16.2 MB/s\u001B[0m eta \u001B[36m0:00:00\u001B[0m\n",
      "\u001B[2K     \u001B[90m━━━━━━━━━━━━━━━━━━━━━━━━━━━━━━━━━━━━━━━━\u001B[0m \u001B[32m134.8/134.8 kB\u001B[0m \u001B[31m12.0 MB/s\u001B[0m eta \u001B[36m0:00:00\u001B[0m\n",
      "\u001B[2K     \u001B[90m━━━━━━━━━━━━━━━━━━━━━━━━━━━━━━━━━━━━━━━━\u001B[0m \u001B[32m401.2/401.2 kB\u001B[0m \u001B[31m13.3 MB/s\u001B[0m eta \u001B[36m0:00:00\u001B[0m\n",
      "\u001B[2K     \u001B[90m━━━━━━━━━━━━━━━━━━━━━━━━━━━━━━━━━━━━━━━━\u001B[0m \u001B[32m75.6/75.6 kB\u001B[0m \u001B[31m7.8 MB/s\u001B[0m eta \u001B[36m0:00:00\u001B[0m\n",
      "\u001B[2K     \u001B[90m━━━━━━━━━━━━━━━━━━━━━━━━━━━━━━━━━━━━━━━━\u001B[0m \u001B[32m121.0/121.0 kB\u001B[0m \u001B[31m12.6 MB/s\u001B[0m eta \u001B[36m0:00:00\u001B[0m\n",
      "\u001B[2K     \u001B[90m━━━━━━━━━━━━━━━━━━━━━━━━━━━━━━━━━━━━━━━━\u001B[0m \u001B[32m53.0/53.0 kB\u001B[0m \u001B[31m5.3 MB/s\u001B[0m eta \u001B[36m0:00:00\u001B[0m\n",
      "\u001B[2K     \u001B[90m━━━━━━━━━━━━━━━━━━━━━━━━━━━━━━━━━━━━━━━━\u001B[0m \u001B[32m49.3/49.3 kB\u001B[0m \u001B[31m5.2 MB/s\u001B[0m eta \u001B[36m0:00:00\u001B[0m\n",
      "\u001B[2K     \u001B[90m━━━━━━━━━━━━━━━━━━━━━━━━━━━━━━━━━━━━━━━━\u001B[0m \u001B[32m77.9/77.9 kB\u001B[0m \u001B[31m8.4 MB/s\u001B[0m eta \u001B[36m0:00:00\u001B[0m\n",
      "\u001B[2K     \u001B[90m━━━━━━━━━━━━━━━━━━━━━━━━━━━━━━━━━━━━━━━━\u001B[0m \u001B[32m58.3/58.3 kB\u001B[0m \u001B[31m6.1 MB/s\u001B[0m eta \u001B[36m0:00:00\u001B[0m\n",
      "\u001B[2K     \u001B[90m━━━━━━━━━━━━━━━━━━━━━━━━━━━━━━━━━━━━━━━━\u001B[0m \u001B[32m142.5/142.5 kB\u001B[0m \u001B[31m13.0 MB/s\u001B[0m eta \u001B[36m0:00:00\u001B[0m\n",
      "\u001B[?25h"
     ]
    }
   ],
   "source": [
    "!pip install -q ragas datasets"
   ]
  },
  {
   "cell_type": "code",
   "source": [
    "import pandas as pd\n",
    "import os\n",
    "from datasets import load_dataset, Dataset\n",
    "from ragas.metrics import (\n",
    "    answer_relevancy,\n",
    "    faithfulness,\n",
    "    context_recall,\n",
    "    context_precision,\n",
    ")\n",
    "from ragas import evaluate\n",
    "import json\n",
    "from langchain_openai import ChatOpenAI"
   ],
   "metadata": {
    "id": "XVaOhuxEqq7m",
    "executionInfo": {
     "status": "ok",
     "timestamp": 1715716440554,
     "user_tz": 300,
     "elapsed": 6092,
     "user": {
      "displayName": "Zeyu Yan",
      "userId": "00512041571302287004"
     }
    }
   },
   "execution_count": 2,
   "outputs": []
  },
  {
   "cell_type": "code",
   "source": [
    "pd.set_option('display.max_columns', None)\n",
    "pd.set_option('display.max_colwidth', None)"
   ],
   "metadata": {
    "id": "NWhUyvVHqrAc",
    "executionInfo": {
     "status": "ok",
     "timestamp": 1715716441954,
     "user_tz": 300,
     "elapsed": 165,
     "user": {
      "displayName": "Zeyu Yan",
      "userId": "00512041571302287004"
     }
    }
   },
   "execution_count": 3,
   "outputs": []
  },
  {
   "cell_type": "code",
   "source": "# Set OPENAI_API_KEY",
   "metadata": {
    "id": "U0EUkOnqqrFB",
    "executionInfo": {
     "status": "ok",
     "timestamp": 1715716446678,
     "user_tz": 300,
     "elapsed": 258,
     "user": {
      "displayName": "Zeyu Yan",
      "userId": "00512041571302287004"
     }
    }
   },
   "execution_count": 4,
   "outputs": []
  },
  {
   "cell_type": "code",
   "source": "# Define root_path and data_path",
   "metadata": {
    "id": "ZOmg90Z7qrKV",
    "executionInfo": {
     "status": "ok",
     "timestamp": 1715716451134,
     "user_tz": 300,
     "elapsed": 304,
     "user": {
      "displayName": "Zeyu Yan",
      "userId": "00512041571302287004"
     }
    }
   },
   "execution_count": 5,
   "outputs": []
  },
  {
   "cell_type": "code",
   "source": [
    "# Vector\n",
    "\n",
    "# Prepare to accumulate DataFrames\n",
    "dfs = []\n",
    "\n",
    "# Loop through the files in the specified directory\n",
    "for i in range(1, 6):  # Assuming files are numbered from 1 to 10\n",
    "    file_name = \"file_name\"\n",
    "    file_path = os.path.join(data_path, file_name)\n",
    "\n",
    "    # Check if the file exists\n",
    "    if os.path.exists(file_path):\n",
    "        # Load the CSV file into a DataFrame\n",
    "        df = pd.read_csv(file_path)\n",
    "\n",
    "        # Append the DataFrame to the list\n",
    "        dfs.append(df)\n",
    "    else:\n",
    "        print(f'File not found: {file_name}')\n",
    "\n",
    "# Concatenate all DataFrames in the list into a single DataFrame\n",
    "vector_df = pd.concat(dfs, ignore_index=True)\n",
    "\n",
    "print(vector_df.shape)"
   ],
   "metadata": {
    "colab": {
     "base_uri": "https://localhost:8080/"
    },
    "id": "9PX1kPHLqrP8",
    "executionInfo": {
     "status": "ok",
     "timestamp": 1715716468969,
     "user_tz": 300,
     "elapsed": 6118,
     "user": {
      "displayName": "Zeyu Yan",
      "userId": "00512041571302287004"
     }
    },
    "outputId": "71cacd49-9aea-4758-a0a9-5ac352276e68"
   },
   "execution_count": 6,
   "outputs": [
    {
     "output_type": "stream",
     "name": "stdout",
     "text": [
      "(5000, 9)\n"
     ]
    }
   ]
  },
  {
   "cell_type": "code",
   "source": [
    "# Graph\n",
    "\n",
    "# Prepare to accumulate DataFrames\n",
    "dfs = []\n",
    "\n",
    "# Loop through the files in the specified directory\n",
    "for i in range(1, 5):  # Assuming files are numbered from 1 to 10\n",
    "    file_name = f'file_name'\n",
    "    file_path = os.path.join(data_path, file_name)\n",
    "\n",
    "    # Check if the file exists\n",
    "    if os.path.exists(file_path):\n",
    "        # Load the CSV file into a DataFrame\n",
    "        df = pd.read_csv(file_path)\n",
    "\n",
    "        # Append the DataFrame to the list\n",
    "        dfs.append(df)\n",
    "    else:\n",
    "        print(f'File not found: {file_name}')\n",
    "\n",
    "# Concatenate all DataFrames in the list into a single DataFrame\n",
    "graph_df = pd.concat(dfs, ignore_index=True)\n",
    "\n",
    "print(graph_df.shape)"
   ],
   "metadata": {
    "colab": {
     "base_uri": "https://localhost:8080/"
    },
    "id": "qKeUwb0iq3D3",
    "executionInfo": {
     "status": "ok",
     "timestamp": 1715716536869,
     "user_tz": 300,
     "elapsed": 5246,
     "user": {
      "displayName": "Zeyu Yan",
      "userId": "00512041571302287004"
     }
    },
    "outputId": "86e8a467-ce84-42ba-e47c-5c775a6bcefe"
   },
   "execution_count": 7,
   "outputs": [
    {
     "output_type": "stream",
     "name": "stdout",
     "text": [
      "(5000, 9)\n"
     ]
    }
   ]
  },
  {
   "cell_type": "code",
   "source": [
    "vector_df.dropna(subset=['teacher_answer'], inplace=True)\n",
    "graph_df.dropna(subset=['teacher_answer'], inplace=True)\n",
    "print(vector_df.shape)\n",
    "print(graph_df.shape)"
   ],
   "metadata": {
    "colab": {
     "base_uri": "https://localhost:8080/"
    },
    "id": "pjQqbbivq3Ic",
    "executionInfo": {
     "status": "ok",
     "timestamp": 1715716541081,
     "user_tz": 300,
     "elapsed": 158,
     "user": {
      "displayName": "Zeyu Yan",
      "userId": "00512041571302287004"
     }
    },
    "outputId": "3095e883-d4e4-4747-c02b-c74bc03aface"
   },
   "execution_count": 8,
   "outputs": [
    {
     "output_type": "stream",
     "name": "stdout",
     "text": [
      "(3843, 9)\n",
      "(3843, 9)\n"
     ]
    }
   ]
  },
  {
   "cell_type": "code",
   "source": [
    "# Load saved_df\n",
    "sampled_ids = saved_df['id'].tolist()\n",
    "\n",
    "sampled_vector_df = vector_df[vector_df['id'].isin(sampled_ids)]\n",
    "sampled_graph_df = graph_df[graph_df['id'].isin(sampled_ids)]\n",
    "\n",
    "print(sampled_vector_df.shape)\n",
    "print(sampled_graph_df.shape)"
   ],
   "metadata": {
    "colab": {
     "base_uri": "https://localhost:8080/"
    },
    "id": "bgZD3df-q3Mv",
    "executionInfo": {
     "status": "ok",
     "timestamp": 1715716567756,
     "user_tz": 300,
     "elapsed": 723,
     "user": {
      "displayName": "Zeyu Yan",
      "userId": "00512041571302287004"
     }
    },
    "outputId": "722e2e7c-b046-4955-9e1d-9bca229517dd"
   },
   "execution_count": 9,
   "outputs": [
    {
     "output_type": "stream",
     "name": "stdout",
     "text": [
      "(500, 9)\n",
      "(500, 9)\n"
     ]
    }
   ]
  },
  {
   "cell_type": "code",
   "source": [
    "sub_df_vector = sampled_vector_df.drop('id', axis=1)\n",
    "sub_df_graph = sampled_graph_df.drop('id', axis=1)"
   ],
   "metadata": {
    "id": "_1mYB4Lzq3Rl",
    "executionInfo": {
     "status": "ok",
     "timestamp": 1715716577064,
     "user_tz": 300,
     "elapsed": 396,
     "user": {
      "displayName": "Zeyu Yan",
      "userId": "00512041571302287004"
     }
    }
   },
   "execution_count": 10,
   "outputs": []
  },
  {
   "cell_type": "code",
   "source": [
    "def filter_columns(df, mode):\n",
    "    \"\"\"\n",
    "    Removes columns based on the mode ('no', 'low', or 'high').\n",
    "\n",
    "    Parameters:\n",
    "    - df: Pandas DataFrame to process.\n",
    "    - mode: String specifying the mode. Accepts 'no', 'low', or 'high'.\n",
    "\n",
    "    Returns:\n",
    "    - A new DataFrame with the specified columns removed.\n",
    "    \"\"\"\n",
    "\n",
    "    # Ensure mode is either 'no', 'low', or 'high'\n",
    "    if mode not in ['no', 'low', 'high']:\n",
    "        raise ValueError(\"Mode must be 'no', 'low', or 'high'\")\n",
    "\n",
    "    # Determine the substrings to keep based on the mode\n",
    "    if mode == 'no':\n",
    "        filters_to_keep = ['no']\n",
    "    elif mode == 'low':\n",
    "        filters_to_keep = ['low']\n",
    "    elif mode == 'high':\n",
    "        filters_to_keep = ['high']\n",
    "\n",
    "    # Identify columns that match the filters to keep\n",
    "    columns_to_keep = ['question', 'teacher_answer'] + [col for col in df.columns if any(f in col for f in filters_to_keep)]\n",
    "\n",
    "    # Drop columns not in the columns_to_keep list and return the new DataFrame\n",
    "    return df[columns_to_keep]"
   ],
   "metadata": {
    "id": "H75RhDNyqrUP",
    "executionInfo": {
     "status": "ok",
     "timestamp": 1715716585563,
     "user_tz": 300,
     "elapsed": 149,
     "user": {
      "displayName": "Zeyu Yan",
      "userId": "00512041571302287004"
     }
    }
   },
   "execution_count": 11,
   "outputs": []
  },
  {
   "cell_type": "code",
   "source": [
    "sub_df_vector_no = filter_columns(sub_df_vector, 'no')\n",
    "sub_df_vector_low = filter_columns(sub_df_vector, 'low')\n",
    "sub_df_vector_high = filter_columns(sub_df_vector, 'high')\n",
    "sub_df_graph_no = filter_columns(sub_df_graph, 'no')\n",
    "sub_df_graph_low = filter_columns(sub_df_graph, 'low')\n",
    "sub_df_graph_high = filter_columns(sub_df_graph, 'high')"
   ],
   "metadata": {
    "id": "quLzoEUxrVzR",
    "executionInfo": {
     "status": "ok",
     "timestamp": 1715716590725,
     "user_tz": 300,
     "elapsed": 170,
     "user": {
      "displayName": "Zeyu Yan",
      "userId": "00512041571302287004"
     }
    }
   },
   "execution_count": 12,
   "outputs": []
  },
  {
   "cell_type": "code",
   "source": [
    "def rename_columns(df):\n",
    "    \"\"\"\n",
    "    Renames columns in the DataFrame as specified:\n",
    "    - 'teacher_answer' to 'ground_truth',\n",
    "    - Columns containing 'response' to include 'answer',\n",
    "    - Columns containing 'context' to include 'contexts'.\n",
    "\n",
    "    Parameters:\n",
    "    - df: Pandas DataFrame to process.\n",
    "\n",
    "    Returns:\n",
    "    - A new DataFrame with columns renamed.\n",
    "    \"\"\"\n",
    "    # Create a copy of the DataFrame to avoid modifying the original\n",
    "    new_df = df.copy()\n",
    "\n",
    "    # Rename 'teacher_answer' to 'ground_truth'\n",
    "    new_df.rename(columns={'teacher_answer': 'ground_truth'}, inplace=True)\n",
    "\n",
    "    # Rename columns containing 'response' and 'context'\n",
    "    new_df.columns = ['answer' if 'response' in col else col for col in new_df.columns]\n",
    "    new_df.columns = ['contexts' if 'context' in col else col for col in new_df.columns]\n",
    "\n",
    "    return new_df"
   ],
   "metadata": {
    "id": "5uosDGHUrV31",
    "executionInfo": {
     "status": "ok",
     "timestamp": 1715716595894,
     "user_tz": 300,
     "elapsed": 153,
     "user": {
      "displayName": "Zeyu Yan",
      "userId": "00512041571302287004"
     }
    }
   },
   "execution_count": 13,
   "outputs": []
  },
  {
   "cell_type": "code",
   "source": [
    "sub_df_vector_no_renamed = rename_columns(sub_df_vector_no)\n",
    "sub_df_vector_low_renamed = rename_columns(sub_df_vector_low)\n",
    "sub_df_vector_high_renamed = rename_columns(sub_df_vector_high)\n",
    "sub_df_graph_no_renamed = rename_columns(sub_df_graph_no)\n",
    "sub_df_graph_low_renamed = rename_columns(sub_df_graph_low)\n",
    "sub_df_graph_high_renamed = rename_columns(sub_df_graph_high)"
   ],
   "metadata": {
    "id": "tPB5qnh7rV8c",
    "executionInfo": {
     "status": "ok",
     "timestamp": 1715716600944,
     "user_tz": 300,
     "elapsed": 267,
     "user": {
      "displayName": "Zeyu Yan",
      "userId": "00512041571302287004"
     }
    }
   },
   "execution_count": 14,
   "outputs": []
  },
  {
   "cell_type": "code",
   "source": [
    "print(sub_df_vector_no_renamed.columns)\n",
    "print(sub_df_vector_low_renamed.columns)\n",
    "print(sub_df_vector_high_renamed.columns)\n",
    "print(sub_df_graph_no_renamed.columns)\n",
    "print(sub_df_graph_low_renamed.columns)\n",
    "print(sub_df_graph_high_renamed.columns)"
   ],
   "metadata": {
    "colab": {
     "base_uri": "https://localhost:8080/"
    },
    "id": "vf1gTVWvrWBy",
    "executionInfo": {
     "status": "ok",
     "timestamp": 1715716604911,
     "user_tz": 300,
     "elapsed": 145,
     "user": {
      "displayName": "Zeyu Yan",
      "userId": "00512041571302287004"
     }
    },
    "outputId": "14df3def-65d8-4945-e2a3-66405d2a33e1"
   },
   "execution_count": 15,
   "outputs": [
    {
     "output_type": "stream",
     "name": "stdout",
     "text": [
      "Index(['question', 'ground_truth', 'answer', 'contexts'], dtype='object')\n",
      "Index(['question', 'ground_truth', 'answer', 'contexts'], dtype='object')\n",
      "Index(['question', 'ground_truth', 'answer', 'contexts'], dtype='object')\n",
      "Index(['question', 'ground_truth', 'answer', 'contexts'], dtype='object')\n",
      "Index(['question', 'ground_truth', 'answer', 'contexts'], dtype='object')\n",
      "Index(['question', 'ground_truth', 'answer', 'contexts'], dtype='object')\n"
     ]
    }
   ]
  },
  {
   "cell_type": "code",
   "source": [
    "sub_df_vector_no_renamed['contexts'] = sub_df_vector_no_renamed['contexts'].apply(lambda x: [x])\n",
    "ds_vector_no = Dataset.from_pandas(sub_df_vector_no_renamed)\n",
    "\n",
    "sub_df_vector_low_renamed['contexts'] = sub_df_vector_low_renamed['contexts'].apply(lambda x: [x])\n",
    "ds_vector_low = Dataset.from_pandas(sub_df_vector_low_renamed)\n",
    "\n",
    "sub_df_vector_high_renamed['contexts'] = sub_df_vector_high_renamed['contexts'].apply(lambda x: [x])\n",
    "ds_vector_high = Dataset.from_pandas(sub_df_vector_high_renamed)\n",
    "\n",
    "sub_df_graph_no_renamed['contexts'] = sub_df_graph_no_renamed['contexts'].apply(lambda x: [x])\n",
    "ds_graph_no = Dataset.from_pandas(sub_df_graph_no_renamed)\n",
    "\n",
    "sub_df_graph_low_renamed['contexts'] = sub_df_graph_low_renamed['contexts'].apply(lambda x: [x])\n",
    "ds_graph_low = Dataset.from_pandas(sub_df_graph_low_renamed)\n",
    "\n",
    "sub_df_graph_high_renamed['contexts'] = sub_df_graph_high_renamed['contexts'].apply(lambda x: [x])\n",
    "ds_graph_high = Dataset.from_pandas(sub_df_graph_high_renamed)"
   ],
   "metadata": {
    "id": "MXQMWsX6rWGj",
    "executionInfo": {
     "status": "ok",
     "timestamp": 1715716614072,
     "user_tz": 300,
     "elapsed": 964,
     "user": {
      "displayName": "Zeyu Yan",
      "userId": "00512041571302287004"
     }
    }
   },
   "execution_count": 16,
   "outputs": []
  },
  {
   "cell_type": "code",
   "source": [
    "ds_vector_no"
   ],
   "metadata": {
    "colab": {
     "base_uri": "https://localhost:8080/"
    },
    "id": "F5Ul7EXXrdmI",
    "executionInfo": {
     "status": "ok",
     "timestamp": 1715716618899,
     "user_tz": 300,
     "elapsed": 141,
     "user": {
      "displayName": "Zeyu Yan",
      "userId": "00512041571302287004"
     }
    },
    "outputId": "3fb8d6c8-02e4-4bee-acaf-8cb4792a4556"
   },
   "execution_count": 17,
   "outputs": [
    {
     "output_type": "execute_result",
     "data": {
      "text/plain": [
       "Dataset({\n",
       "    features: ['question', 'ground_truth', 'answer', 'contexts', '__index_level_0__'],\n",
       "    num_rows: 500\n",
       "})"
      ]
     },
     "metadata": {},
     "execution_count": 17
    }
   ]
  },
  {
   "cell_type": "code",
   "source": [
    "llm = ChatOpenAI(model='gpt-4-turbo')"
   ],
   "metadata": {
    "id": "b6BMdbyErdqt",
    "executionInfo": {
     "status": "ok",
     "timestamp": 1715716751801,
     "user_tz": 300,
     "elapsed": 254,
     "user": {
      "displayName": "Zeyu Yan",
      "userId": "00512041571302287004"
     }
    }
   },
   "execution_count": 19,
   "outputs": []
  },
  {
   "cell_type": "code",
   "source": [
    "res_graph_no = evaluate(\n",
    "    ds_graph_no,\n",
    "    metrics=[\n",
    "        context_precision,\n",
    "        faithfulness,\n",
    "        answer_relevancy,\n",
    "        context_recall,\n",
    "    ],\n",
    "    llm=llm,\n",
    ")\n",
    "\n",
    "df_graph_no = res_graph_no.to_pandas()\n",
    "# Save df_graph_no"
   ],
   "metadata": {
    "colab": {
     "base_uri": "https://localhost:8080/",
     "height": 1000,
     "referenced_widgets": [
      "f5542e7300db484faa68d5275e445c7c",
      "3d4c3a53847841a1a05a424790439c1d",
      "e9a822f3419f44a6aaeac6f51e1a2577",
      "19c104460bcc46f4a9376d71aa0a2a96",
      "f66cce64d04e46dcbc75b6e0328ff1c7",
      "36f13d0c674749c1a1a0a8df66b6aade",
      "552a7dcb28214c4d9d7d4c9c92c04247",
      "8154ec644eb14c90b3c63d307e192035",
      "a7e767ab83994b85bfa6d116e89f36ff",
      "67adb1f8ca544c4cac63df1bde1172c8",
      "67e652141724484dbb792a8f99878f6f"
     ]
    },
    "id": "j3NeoYhdrdvP",
    "executionInfo": {
     "status": "ok",
     "timestamp": 1715718732679,
     "user_tz": 300,
     "elapsed": 1980879,
     "user": {
      "displayName": "Zeyu Yan",
      "userId": "00512041571302287004"
     }
    },
    "outputId": "5a87f96c-e48a-47f1-854f-fc7fbba4a9d5"
   },
   "outputs": [],
   "execution_count": null
  },
  {
   "cell_type": "code",
   "source": [
    "res_graph_low = evaluate(\n",
    "    ds_graph_low,\n",
    "    metrics=[\n",
    "        context_precision,\n",
    "        faithfulness,\n",
    "        answer_relevancy,\n",
    "        context_recall,\n",
    "    ],\n",
    "    llm=llm,\n",
    ")\n",
    "\n",
    "df_graph_low = res_graph_low.to_pandas()\n",
    "# Save df_graph_low"
   ],
   "metadata": {
    "colab": {
     "base_uri": "https://localhost:8080/",
     "height": 1000,
     "referenced_widgets": [
      "58063205d4894850b4ecba55fdfc2d1e",
      "1714486bd5544d8e8d5d22d2098dff81",
      "8c7533f51dc24ce4ab2946c4ec70937c",
      "0eb68f40906a4df39dcadd61f9fa2149",
      "740519da28af47e3b2696519ad541b35",
      "8079eba6c32d405aae86104f554bf6ef",
      "f859f747bf9b45b8bdcf1cf3c265250e",
      "1cea8957ec8f43948d20d7e694990172",
      "1068319b64d445f5a7a34c39308cdfd3",
      "4a07b058bae84f8d869c17286a7f1ffa",
      "a065334cdd0e4791862cbf58726ddf64"
     ]
    },
    "id": "epCzEDaVrWKq",
    "executionInfo": {
     "status": "ok",
     "timestamp": 1715720569884,
     "user_tz": 300,
     "elapsed": 1837212,
     "user": {
      "displayName": "Zeyu Yan",
      "userId": "00512041571302287004"
     }
    },
    "outputId": "753fcb19-c209-4359-83ca-29d53bef64e3"
   },
   "outputs": [],
   "execution_count": null
  },
  {
   "cell_type": "code",
   "source": [
    "res_graph_high = evaluate(\n",
    "    ds_graph_high,\n",
    "    metrics=[\n",
    "        context_precision,\n",
    "        faithfulness,\n",
    "        answer_relevancy,\n",
    "        context_recall,\n",
    "    ],\n",
    "    llm=llm,\n",
    ")\n",
    "\n",
    "df_graph_high = res_graph_high.to_pandas()\n",
    "# Save df_graph_high"
   ],
   "metadata": {
    "colab": {
     "base_uri": "https://localhost:8080/",
     "height": 1000,
     "referenced_widgets": [
      "38a4725e64ec47d18b6239b9a5b67b53",
      "1f2cdd3e7b6545718ce3e560f7db0e25",
      "481a1de6f9b949b1b800c6fdac359d6b",
      "e4c802ce45f34e1980aebbd1029c864d",
      "7c7ab3221c784adfa7ee2de1ad782285",
      "2b5e33b502174feb9a324824815a9a71",
      "194c983da0b342e0a55fcdfe3aa400ec",
      "0c374e270b05493ebb4269e0d61df249",
      "9a182fb055814bff9056a002262ddddf",
      "9b25390a3d4b4e68ad964f228e153b14",
      "94654fc7090e439f9315159f13838b84"
     ]
    },
    "id": "c5vC5pq_r26P",
    "executionInfo": {
     "status": "ok",
     "timestamp": 1715722367259,
     "user_tz": 300,
     "elapsed": 1797385,
     "user": {
      "displayName": "Zeyu Yan",
      "userId": "00512041571302287004"
     }
    },
    "outputId": "754c7e62-710b-4158-f2b7-511ecb539d49"
   },
   "outputs": [],
   "execution_count": null
  },
  {
   "cell_type": "code",
   "source": [],
   "metadata": {
    "id": "HrLJxW97r2_F",
    "executionInfo": {
     "status": "ok",
     "timestamp": 1715722367260,
     "user_tz": 300,
     "elapsed": 10,
     "user": {
      "displayName": "Zeyu Yan",
      "userId": "00512041571302287004"
     }
    }
   },
   "execution_count": 22,
   "outputs": []
  },
  {
   "cell_type": "code",
   "source": [],
   "metadata": {
    "id": "uqgxZkC1r3Db",
    "executionInfo": {
     "status": "ok",
     "timestamp": 1715722367260,
     "user_tz": 300,
     "elapsed": 3,
     "user": {
      "displayName": "Zeyu Yan",
      "userId": "00512041571302287004"
     }
    }
   },
   "execution_count": 22,
   "outputs": []
  }
 ]
}
